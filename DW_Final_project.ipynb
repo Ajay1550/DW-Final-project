{
  "nbformat": 4,
  "nbformat_minor": 0,
  "metadata": {
    "colab": {
      "provenance": []
    },
    "kernelspec": {
      "name": "python3",
      "display_name": "Python 3"
    },
    "language_info": {
      "name": "python"
    }
  },
  "cells": [
    {
      "cell_type": "code",
      "execution_count": 8,
      "metadata": {
        "id": "ttpMVuEU7dN1"
      },
      "outputs": [],
      "source": [
        "import pandas as pd\n",
        "import numpy as np\n",
        "import seaborn as sns\n",
        "import matplotlib.pyplot as plt"
      ]
    },
    {
      "cell_type": "code",
      "source": [
        "#1. Import the dataset using Pandas from above mentioned url."
      ],
      "metadata": {
        "id": "YDawMKR276La"
      },
      "execution_count": null,
      "outputs": []
    },
    {
      "cell_type": "code",
      "source": [
        "#2. High Level Data Understanding:\n",
        "# a.Find no. of rows & columns in the dataset\n",
        "# b. Data types of columns.\n",
        "# c. Info & describe of data in dataframe."
      ],
      "metadata": {
        "id": "G9dgIIav7nnA"
      },
      "execution_count": null,
      "outputs": []
    },
    {
      "cell_type": "code",
      "source": [
        "df = pd.read_csv('https://raw.githubusercontent.com/SR1608/Datasets/main/covid-data.csv')\n",
        "df"
      ],
      "metadata": {
        "colab": {
          "base_uri": "https://localhost:8080/",
          "height": 487
        },
        "id": "6mtQRz5N7i2L",
        "outputId": "7f690b74-5d74-43fa-aa76-430fe0198a6b"
      },
      "execution_count": 2,
      "outputs": [
        {
          "output_type": "execute_result",
          "data": {
            "text/plain": [
              "      iso_code continent       location      date  total_cases  new_cases  \\\n",
              "0          AFG      Asia    Afghanistan  31/12/19          NaN        0.0   \n",
              "1          AFG      Asia    Afghanistan  01/01/20          NaN        0.0   \n",
              "2          AFG      Asia    Afghanistan  02/01/20          NaN        0.0   \n",
              "3          AFG      Asia    Afghanistan  03/01/20          NaN        0.0   \n",
              "4          AFG      Asia    Afghanistan  04/01/20          NaN        0.0   \n",
              "...        ...       ...            ...       ...          ...        ...   \n",
              "57389      NaN       NaN  International  13/11/20        696.0        NaN   \n",
              "57390      NaN       NaN  International  14/11/20        696.0        NaN   \n",
              "57391      NaN       NaN  International  15/11/20        696.0        NaN   \n",
              "57392      NaN       NaN  International  16/11/20        696.0        NaN   \n",
              "57393      NaN       NaN  International  17/11/20        696.0        NaN   \n",
              "\n",
              "       new_cases_smoothed  total_deaths  new_deaths  new_deaths_smoothed  ...  \\\n",
              "0                     NaN           NaN         0.0                  NaN  ...   \n",
              "1                     NaN           NaN         0.0                  NaN  ...   \n",
              "2                     NaN           NaN         0.0                  NaN  ...   \n",
              "3                     NaN           NaN         0.0                  NaN  ...   \n",
              "4                     NaN           NaN         0.0                  NaN  ...   \n",
              "...                   ...           ...         ...                  ...  ...   \n",
              "57389                 NaN           7.0         NaN                  NaN  ...   \n",
              "57390                 NaN           7.0         NaN                  NaN  ...   \n",
              "57391                 NaN           7.0         NaN                  NaN  ...   \n",
              "57392                 NaN           7.0         NaN                  NaN  ...   \n",
              "57393                 NaN           7.0         NaN                  NaN  ...   \n",
              "\n",
              "       gdp_per_capita  extreme_poverty  cardiovasc_death_rate  \\\n",
              "0            1803.987              NaN                597.029   \n",
              "1            1803.987              NaN                597.029   \n",
              "2            1803.987              NaN                597.029   \n",
              "3            1803.987              NaN                597.029   \n",
              "4            1803.987              NaN                597.029   \n",
              "...               ...              ...                    ...   \n",
              "57389             NaN              NaN                    NaN   \n",
              "57390             NaN              NaN                    NaN   \n",
              "57391             NaN              NaN                    NaN   \n",
              "57392             NaN              NaN                    NaN   \n",
              "57393             NaN              NaN                    NaN   \n",
              "\n",
              "       diabetes_prevalence  female_smokers  male_smokers  \\\n",
              "0                     9.59             NaN           NaN   \n",
              "1                     9.59             NaN           NaN   \n",
              "2                     9.59             NaN           NaN   \n",
              "3                     9.59             NaN           NaN   \n",
              "4                     9.59             NaN           NaN   \n",
              "...                    ...             ...           ...   \n",
              "57389                  NaN             NaN           NaN   \n",
              "57390                  NaN             NaN           NaN   \n",
              "57391                  NaN             NaN           NaN   \n",
              "57392                  NaN             NaN           NaN   \n",
              "57393                  NaN             NaN           NaN   \n",
              "\n",
              "       handwashing_facilities  hospital_beds_per_thousand  life_expectancy  \\\n",
              "0                      37.746                         0.5            64.83   \n",
              "1                      37.746                         0.5            64.83   \n",
              "2                      37.746                         0.5            64.83   \n",
              "3                      37.746                         0.5            64.83   \n",
              "4                      37.746                         0.5            64.83   \n",
              "...                       ...                         ...              ...   \n",
              "57389                     NaN                         NaN              NaN   \n",
              "57390                     NaN                         NaN              NaN   \n",
              "57391                     NaN                         NaN              NaN   \n",
              "57392                     NaN                         NaN              NaN   \n",
              "57393                     NaN                         NaN              NaN   \n",
              "\n",
              "       human_development_index  \n",
              "0                        0.498  \n",
              "1                        0.498  \n",
              "2                        0.498  \n",
              "3                        0.498  \n",
              "4                        0.498  \n",
              "...                        ...  \n",
              "57389                      NaN  \n",
              "57390                      NaN  \n",
              "57391                      NaN  \n",
              "57392                      NaN  \n",
              "57393                      NaN  \n",
              "\n",
              "[57394 rows x 49 columns]"
            ],
            "text/html": [
              "\n",
              "  <div id=\"df-798e59ad-9788-4a0a-b9c7-ddac710055c6\">\n",
              "    <div class=\"colab-df-container\">\n",
              "      <div>\n",
              "<style scoped>\n",
              "    .dataframe tbody tr th:only-of-type {\n",
              "        vertical-align: middle;\n",
              "    }\n",
              "\n",
              "    .dataframe tbody tr th {\n",
              "        vertical-align: top;\n",
              "    }\n",
              "\n",
              "    .dataframe thead th {\n",
              "        text-align: right;\n",
              "    }\n",
              "</style>\n",
              "<table border=\"1\" class=\"dataframe\">\n",
              "  <thead>\n",
              "    <tr style=\"text-align: right;\">\n",
              "      <th></th>\n",
              "      <th>iso_code</th>\n",
              "      <th>continent</th>\n",
              "      <th>location</th>\n",
              "      <th>date</th>\n",
              "      <th>total_cases</th>\n",
              "      <th>new_cases</th>\n",
              "      <th>new_cases_smoothed</th>\n",
              "      <th>total_deaths</th>\n",
              "      <th>new_deaths</th>\n",
              "      <th>new_deaths_smoothed</th>\n",
              "      <th>...</th>\n",
              "      <th>gdp_per_capita</th>\n",
              "      <th>extreme_poverty</th>\n",
              "      <th>cardiovasc_death_rate</th>\n",
              "      <th>diabetes_prevalence</th>\n",
              "      <th>female_smokers</th>\n",
              "      <th>male_smokers</th>\n",
              "      <th>handwashing_facilities</th>\n",
              "      <th>hospital_beds_per_thousand</th>\n",
              "      <th>life_expectancy</th>\n",
              "      <th>human_development_index</th>\n",
              "    </tr>\n",
              "  </thead>\n",
              "  <tbody>\n",
              "    <tr>\n",
              "      <th>0</th>\n",
              "      <td>AFG</td>\n",
              "      <td>Asia</td>\n",
              "      <td>Afghanistan</td>\n",
              "      <td>31/12/19</td>\n",
              "      <td>NaN</td>\n",
              "      <td>0.0</td>\n",
              "      <td>NaN</td>\n",
              "      <td>NaN</td>\n",
              "      <td>0.0</td>\n",
              "      <td>NaN</td>\n",
              "      <td>...</td>\n",
              "      <td>1803.987</td>\n",
              "      <td>NaN</td>\n",
              "      <td>597.029</td>\n",
              "      <td>9.59</td>\n",
              "      <td>NaN</td>\n",
              "      <td>NaN</td>\n",
              "      <td>37.746</td>\n",
              "      <td>0.5</td>\n",
              "      <td>64.83</td>\n",
              "      <td>0.498</td>\n",
              "    </tr>\n",
              "    <tr>\n",
              "      <th>1</th>\n",
              "      <td>AFG</td>\n",
              "      <td>Asia</td>\n",
              "      <td>Afghanistan</td>\n",
              "      <td>01/01/20</td>\n",
              "      <td>NaN</td>\n",
              "      <td>0.0</td>\n",
              "      <td>NaN</td>\n",
              "      <td>NaN</td>\n",
              "      <td>0.0</td>\n",
              "      <td>NaN</td>\n",
              "      <td>...</td>\n",
              "      <td>1803.987</td>\n",
              "      <td>NaN</td>\n",
              "      <td>597.029</td>\n",
              "      <td>9.59</td>\n",
              "      <td>NaN</td>\n",
              "      <td>NaN</td>\n",
              "      <td>37.746</td>\n",
              "      <td>0.5</td>\n",
              "      <td>64.83</td>\n",
              "      <td>0.498</td>\n",
              "    </tr>\n",
              "    <tr>\n",
              "      <th>2</th>\n",
              "      <td>AFG</td>\n",
              "      <td>Asia</td>\n",
              "      <td>Afghanistan</td>\n",
              "      <td>02/01/20</td>\n",
              "      <td>NaN</td>\n",
              "      <td>0.0</td>\n",
              "      <td>NaN</td>\n",
              "      <td>NaN</td>\n",
              "      <td>0.0</td>\n",
              "      <td>NaN</td>\n",
              "      <td>...</td>\n",
              "      <td>1803.987</td>\n",
              "      <td>NaN</td>\n",
              "      <td>597.029</td>\n",
              "      <td>9.59</td>\n",
              "      <td>NaN</td>\n",
              "      <td>NaN</td>\n",
              "      <td>37.746</td>\n",
              "      <td>0.5</td>\n",
              "      <td>64.83</td>\n",
              "      <td>0.498</td>\n",
              "    </tr>\n",
              "    <tr>\n",
              "      <th>3</th>\n",
              "      <td>AFG</td>\n",
              "      <td>Asia</td>\n",
              "      <td>Afghanistan</td>\n",
              "      <td>03/01/20</td>\n",
              "      <td>NaN</td>\n",
              "      <td>0.0</td>\n",
              "      <td>NaN</td>\n",
              "      <td>NaN</td>\n",
              "      <td>0.0</td>\n",
              "      <td>NaN</td>\n",
              "      <td>...</td>\n",
              "      <td>1803.987</td>\n",
              "      <td>NaN</td>\n",
              "      <td>597.029</td>\n",
              "      <td>9.59</td>\n",
              "      <td>NaN</td>\n",
              "      <td>NaN</td>\n",
              "      <td>37.746</td>\n",
              "      <td>0.5</td>\n",
              "      <td>64.83</td>\n",
              "      <td>0.498</td>\n",
              "    </tr>\n",
              "    <tr>\n",
              "      <th>4</th>\n",
              "      <td>AFG</td>\n",
              "      <td>Asia</td>\n",
              "      <td>Afghanistan</td>\n",
              "      <td>04/01/20</td>\n",
              "      <td>NaN</td>\n",
              "      <td>0.0</td>\n",
              "      <td>NaN</td>\n",
              "      <td>NaN</td>\n",
              "      <td>0.0</td>\n",
              "      <td>NaN</td>\n",
              "      <td>...</td>\n",
              "      <td>1803.987</td>\n",
              "      <td>NaN</td>\n",
              "      <td>597.029</td>\n",
              "      <td>9.59</td>\n",
              "      <td>NaN</td>\n",
              "      <td>NaN</td>\n",
              "      <td>37.746</td>\n",
              "      <td>0.5</td>\n",
              "      <td>64.83</td>\n",
              "      <td>0.498</td>\n",
              "    </tr>\n",
              "    <tr>\n",
              "      <th>...</th>\n",
              "      <td>...</td>\n",
              "      <td>...</td>\n",
              "      <td>...</td>\n",
              "      <td>...</td>\n",
              "      <td>...</td>\n",
              "      <td>...</td>\n",
              "      <td>...</td>\n",
              "      <td>...</td>\n",
              "      <td>...</td>\n",
              "      <td>...</td>\n",
              "      <td>...</td>\n",
              "      <td>...</td>\n",
              "      <td>...</td>\n",
              "      <td>...</td>\n",
              "      <td>...</td>\n",
              "      <td>...</td>\n",
              "      <td>...</td>\n",
              "      <td>...</td>\n",
              "      <td>...</td>\n",
              "      <td>...</td>\n",
              "      <td>...</td>\n",
              "    </tr>\n",
              "    <tr>\n",
              "      <th>57389</th>\n",
              "      <td>NaN</td>\n",
              "      <td>NaN</td>\n",
              "      <td>International</td>\n",
              "      <td>13/11/20</td>\n",
              "      <td>696.0</td>\n",
              "      <td>NaN</td>\n",
              "      <td>NaN</td>\n",
              "      <td>7.0</td>\n",
              "      <td>NaN</td>\n",
              "      <td>NaN</td>\n",
              "      <td>...</td>\n",
              "      <td>NaN</td>\n",
              "      <td>NaN</td>\n",
              "      <td>NaN</td>\n",
              "      <td>NaN</td>\n",
              "      <td>NaN</td>\n",
              "      <td>NaN</td>\n",
              "      <td>NaN</td>\n",
              "      <td>NaN</td>\n",
              "      <td>NaN</td>\n",
              "      <td>NaN</td>\n",
              "    </tr>\n",
              "    <tr>\n",
              "      <th>57390</th>\n",
              "      <td>NaN</td>\n",
              "      <td>NaN</td>\n",
              "      <td>International</td>\n",
              "      <td>14/11/20</td>\n",
              "      <td>696.0</td>\n",
              "      <td>NaN</td>\n",
              "      <td>NaN</td>\n",
              "      <td>7.0</td>\n",
              "      <td>NaN</td>\n",
              "      <td>NaN</td>\n",
              "      <td>...</td>\n",
              "      <td>NaN</td>\n",
              "      <td>NaN</td>\n",
              "      <td>NaN</td>\n",
              "      <td>NaN</td>\n",
              "      <td>NaN</td>\n",
              "      <td>NaN</td>\n",
              "      <td>NaN</td>\n",
              "      <td>NaN</td>\n",
              "      <td>NaN</td>\n",
              "      <td>NaN</td>\n",
              "    </tr>\n",
              "    <tr>\n",
              "      <th>57391</th>\n",
              "      <td>NaN</td>\n",
              "      <td>NaN</td>\n",
              "      <td>International</td>\n",
              "      <td>15/11/20</td>\n",
              "      <td>696.0</td>\n",
              "      <td>NaN</td>\n",
              "      <td>NaN</td>\n",
              "      <td>7.0</td>\n",
              "      <td>NaN</td>\n",
              "      <td>NaN</td>\n",
              "      <td>...</td>\n",
              "      <td>NaN</td>\n",
              "      <td>NaN</td>\n",
              "      <td>NaN</td>\n",
              "      <td>NaN</td>\n",
              "      <td>NaN</td>\n",
              "      <td>NaN</td>\n",
              "      <td>NaN</td>\n",
              "      <td>NaN</td>\n",
              "      <td>NaN</td>\n",
              "      <td>NaN</td>\n",
              "    </tr>\n",
              "    <tr>\n",
              "      <th>57392</th>\n",
              "      <td>NaN</td>\n",
              "      <td>NaN</td>\n",
              "      <td>International</td>\n",
              "      <td>16/11/20</td>\n",
              "      <td>696.0</td>\n",
              "      <td>NaN</td>\n",
              "      <td>NaN</td>\n",
              "      <td>7.0</td>\n",
              "      <td>NaN</td>\n",
              "      <td>NaN</td>\n",
              "      <td>...</td>\n",
              "      <td>NaN</td>\n",
              "      <td>NaN</td>\n",
              "      <td>NaN</td>\n",
              "      <td>NaN</td>\n",
              "      <td>NaN</td>\n",
              "      <td>NaN</td>\n",
              "      <td>NaN</td>\n",
              "      <td>NaN</td>\n",
              "      <td>NaN</td>\n",
              "      <td>NaN</td>\n",
              "    </tr>\n",
              "    <tr>\n",
              "      <th>57393</th>\n",
              "      <td>NaN</td>\n",
              "      <td>NaN</td>\n",
              "      <td>International</td>\n",
              "      <td>17/11/20</td>\n",
              "      <td>696.0</td>\n",
              "      <td>NaN</td>\n",
              "      <td>NaN</td>\n",
              "      <td>7.0</td>\n",
              "      <td>NaN</td>\n",
              "      <td>NaN</td>\n",
              "      <td>...</td>\n",
              "      <td>NaN</td>\n",
              "      <td>NaN</td>\n",
              "      <td>NaN</td>\n",
              "      <td>NaN</td>\n",
              "      <td>NaN</td>\n",
              "      <td>NaN</td>\n",
              "      <td>NaN</td>\n",
              "      <td>NaN</td>\n",
              "      <td>NaN</td>\n",
              "      <td>NaN</td>\n",
              "    </tr>\n",
              "  </tbody>\n",
              "</table>\n",
              "<p>57394 rows × 49 columns</p>\n",
              "</div>\n",
              "      <button class=\"colab-df-convert\" onclick=\"convertToInteractive('df-798e59ad-9788-4a0a-b9c7-ddac710055c6')\"\n",
              "              title=\"Convert this dataframe to an interactive table.\"\n",
              "              style=\"display:none;\">\n",
              "        \n",
              "  <svg xmlns=\"http://www.w3.org/2000/svg\" height=\"24px\"viewBox=\"0 0 24 24\"\n",
              "       width=\"24px\">\n",
              "    <path d=\"M0 0h24v24H0V0z\" fill=\"none\"/>\n",
              "    <path d=\"M18.56 5.44l.94 2.06.94-2.06 2.06-.94-2.06-.94-.94-2.06-.94 2.06-2.06.94zm-11 1L8.5 8.5l.94-2.06 2.06-.94-2.06-.94L8.5 2.5l-.94 2.06-2.06.94zm10 10l.94 2.06.94-2.06 2.06-.94-2.06-.94-.94-2.06-.94 2.06-2.06.94z\"/><path d=\"M17.41 7.96l-1.37-1.37c-.4-.4-.92-.59-1.43-.59-.52 0-1.04.2-1.43.59L10.3 9.45l-7.72 7.72c-.78.78-.78 2.05 0 2.83L4 21.41c.39.39.9.59 1.41.59.51 0 1.02-.2 1.41-.59l7.78-7.78 2.81-2.81c.8-.78.8-2.07 0-2.86zM5.41 20L4 18.59l7.72-7.72 1.47 1.35L5.41 20z\"/>\n",
              "  </svg>\n",
              "      </button>\n",
              "      \n",
              "  <style>\n",
              "    .colab-df-container {\n",
              "      display:flex;\n",
              "      flex-wrap:wrap;\n",
              "      gap: 12px;\n",
              "    }\n",
              "\n",
              "    .colab-df-convert {\n",
              "      background-color: #E8F0FE;\n",
              "      border: none;\n",
              "      border-radius: 50%;\n",
              "      cursor: pointer;\n",
              "      display: none;\n",
              "      fill: #1967D2;\n",
              "      height: 32px;\n",
              "      padding: 0 0 0 0;\n",
              "      width: 32px;\n",
              "    }\n",
              "\n",
              "    .colab-df-convert:hover {\n",
              "      background-color: #E2EBFA;\n",
              "      box-shadow: 0px 1px 2px rgba(60, 64, 67, 0.3), 0px 1px 3px 1px rgba(60, 64, 67, 0.15);\n",
              "      fill: #174EA6;\n",
              "    }\n",
              "\n",
              "    [theme=dark] .colab-df-convert {\n",
              "      background-color: #3B4455;\n",
              "      fill: #D2E3FC;\n",
              "    }\n",
              "\n",
              "    [theme=dark] .colab-df-convert:hover {\n",
              "      background-color: #434B5C;\n",
              "      box-shadow: 0px 1px 3px 1px rgba(0, 0, 0, 0.15);\n",
              "      filter: drop-shadow(0px 1px 2px rgba(0, 0, 0, 0.3));\n",
              "      fill: #FFFFFF;\n",
              "    }\n",
              "  </style>\n",
              "\n",
              "      <script>\n",
              "        const buttonEl =\n",
              "          document.querySelector('#df-798e59ad-9788-4a0a-b9c7-ddac710055c6 button.colab-df-convert');\n",
              "        buttonEl.style.display =\n",
              "          google.colab.kernel.accessAllowed ? 'block' : 'none';\n",
              "\n",
              "        async function convertToInteractive(key) {\n",
              "          const element = document.querySelector('#df-798e59ad-9788-4a0a-b9c7-ddac710055c6');\n",
              "          const dataTable =\n",
              "            await google.colab.kernel.invokeFunction('convertToInteractive',\n",
              "                                                     [key], {});\n",
              "          if (!dataTable) return;\n",
              "\n",
              "          const docLinkHtml = 'Like what you see? Visit the ' +\n",
              "            '<a target=\"_blank\" href=https://colab.research.google.com/notebooks/data_table.ipynb>data table notebook</a>'\n",
              "            + ' to learn more about interactive tables.';\n",
              "          element.innerHTML = '';\n",
              "          dataTable['output_type'] = 'display_data';\n",
              "          await google.colab.output.renderOutput(dataTable, element);\n",
              "          const docLink = document.createElement('div');\n",
              "          docLink.innerHTML = docLinkHtml;\n",
              "          element.appendChild(docLink);\n",
              "        }\n",
              "      </script>\n",
              "    </div>\n",
              "  </div>\n",
              "  "
            ]
          },
          "metadata": {},
          "execution_count": 2
        }
      ]
    },
    {
      "cell_type": "code",
      "source": [
        "# a.Find no. of rows & columns in the dataset"
      ],
      "metadata": {
        "id": "QioEmXzR8RZC"
      },
      "execution_count": null,
      "outputs": []
    },
    {
      "cell_type": "code",
      "source": [
        "df.shape"
      ],
      "metadata": {
        "colab": {
          "base_uri": "https://localhost:8080/"
        },
        "id": "tZBI_BK98wwR",
        "outputId": "8afc32be-f131-4b28-8be9-b15b80e22411"
      },
      "execution_count": null,
      "outputs": [
        {
          "output_type": "execute_result",
          "data": {
            "text/plain": [
              "(57394, 49)"
            ]
          },
          "metadata": {},
          "execution_count": 4
        }
      ]
    },
    {
      "cell_type": "code",
      "source": [
        "# b. Data types of columns."
      ],
      "metadata": {
        "id": "9WHPC5wG81uF"
      },
      "execution_count": null,
      "outputs": []
    },
    {
      "cell_type": "code",
      "source": [
        "print(df.dtypes)"
      ],
      "metadata": {
        "colab": {
          "base_uri": "https://localhost:8080/"
        },
        "id": "z6HpnY8s9v7s",
        "outputId": "804609f5-5378-483a-9e22-14d53313becb"
      },
      "execution_count": null,
      "outputs": [
        {
          "output_type": "stream",
          "name": "stdout",
          "text": [
            "iso_code                               object\n",
            "continent                              object\n",
            "location                               object\n",
            "date                                   object\n",
            "total_cases                           float64\n",
            "new_cases                             float64\n",
            "new_cases_smoothed                    float64\n",
            "total_deaths                          float64\n",
            "new_deaths                            float64\n",
            "new_deaths_smoothed                   float64\n",
            "total_cases_per_million               float64\n",
            "new_cases_per_million                 float64\n",
            "new_cases_smoothed_per_million        float64\n",
            "total_deaths_per_million              float64\n",
            "new_deaths_per_million                float64\n",
            "new_deaths_smoothed_per_million       float64\n",
            "reproduction_rate                     float64\n",
            "icu_patients                          float64\n",
            "icu_patients_per_million              float64\n",
            "hosp_patients                         float64\n",
            "hosp_patients_per_million             float64\n",
            "weekly_icu_admissions                 float64\n",
            "weekly_icu_admissions_per_million     float64\n",
            "weekly_hosp_admissions                float64\n",
            "weekly_hosp_admissions_per_million    float64\n",
            "total_tests                           float64\n",
            "new_tests                             float64\n",
            "total_tests_per_thousand              float64\n",
            "new_tests_per_thousand                float64\n",
            "new_tests_smoothed                    float64\n",
            "new_tests_smoothed_per_thousand       float64\n",
            "tests_per_case                        float64\n",
            "positive_rate                         float64\n",
            "stringency_index                      float64\n",
            "population                            float64\n",
            "population_density                    float64\n",
            "median_age                            float64\n",
            "aged_65_older                         float64\n",
            "aged_70_older                         float64\n",
            "gdp_per_capita                        float64\n",
            "extreme_poverty                       float64\n",
            "cardiovasc_death_rate                 float64\n",
            "diabetes_prevalence                   float64\n",
            "female_smokers                        float64\n",
            "male_smokers                          float64\n",
            "handwashing_facilities                float64\n",
            "hospital_beds_per_thousand            float64\n",
            "life_expectancy                       float64\n",
            "human_development_index               float64\n",
            "dtype: object\n"
          ]
        }
      ]
    },
    {
      "cell_type": "code",
      "source": [
        "# c. Info & describe of data in dataframe."
      ],
      "metadata": {
        "id": "MTXUYMir-Sov"
      },
      "execution_count": null,
      "outputs": []
    },
    {
      "cell_type": "code",
      "source": [
        "df.info()"
      ],
      "metadata": {
        "colab": {
          "base_uri": "https://localhost:8080/"
        },
        "id": "5QN_z0cl-rSZ",
        "outputId": "d3864e5a-50ab-4d8a-c88b-15f5119b3d18"
      },
      "execution_count": null,
      "outputs": [
        {
          "output_type": "stream",
          "name": "stdout",
          "text": [
            "<class 'pandas.core.frame.DataFrame'>\n",
            "RangeIndex: 57394 entries, 0 to 57393\n",
            "Data columns (total 49 columns):\n",
            " #   Column                              Non-Null Count  Dtype  \n",
            "---  ------                              --------------  -----  \n",
            " 0   iso_code                            57071 non-null  object \n",
            " 1   continent                           56748 non-null  object \n",
            " 2   location                            57394 non-null  object \n",
            " 3   date                                57394 non-null  object \n",
            " 4   total_cases                         53758 non-null  float64\n",
            " 5   new_cases                           56465 non-null  float64\n",
            " 6   new_cases_smoothed                  55652 non-null  float64\n",
            " 7   total_deaths                        44368 non-null  float64\n",
            " 8   new_deaths                          56465 non-null  float64\n",
            " 9   new_deaths_smoothed                 55652 non-null  float64\n",
            " 10  total_cases_per_million             53471 non-null  float64\n",
            " 11  new_cases_per_million               56401 non-null  float64\n",
            " 12  new_cases_smoothed_per_million      55587 non-null  float64\n",
            " 13  total_deaths_per_million            44096 non-null  float64\n",
            " 14  new_deaths_per_million              56401 non-null  float64\n",
            " 15  new_deaths_smoothed_per_million     55587 non-null  float64\n",
            " 16  reproduction_rate                   37696 non-null  float64\n",
            " 17  icu_patients                        4490 non-null   float64\n",
            " 18  icu_patients_per_million            4490 non-null   float64\n",
            " 19  hosp_patients                       5005 non-null   float64\n",
            " 20  hosp_patients_per_million           5005 non-null   float64\n",
            " 21  weekly_icu_admissions               357 non-null    float64\n",
            " 22  weekly_icu_admissions_per_million   357 non-null    float64\n",
            " 23  weekly_hosp_admissions              645 non-null    float64\n",
            " 24  weekly_hosp_admissions_per_million  645 non-null    float64\n",
            " 25  total_tests                         22017 non-null  float64\n",
            " 26  new_tests                           21787 non-null  float64\n",
            " 27  total_tests_per_thousand            22017 non-null  float64\n",
            " 28  new_tests_per_thousand              21787 non-null  float64\n",
            " 29  new_tests_smoothed                  24612 non-null  float64\n",
            " 30  new_tests_smoothed_per_thousand     24612 non-null  float64\n",
            " 31  tests_per_case                      22802 non-null  float64\n",
            " 32  positive_rate                       23211 non-null  float64\n",
            " 33  stringency_index                    47847 non-null  float64\n",
            " 34  population                          57071 non-null  float64\n",
            " 35  population_density                  54371 non-null  float64\n",
            " 36  median_age                          51034 non-null  float64\n",
            " 37  aged_65_older                       50265 non-null  float64\n",
            " 38  aged_70_older                       50768 non-null  float64\n",
            " 39  gdp_per_capita                      50367 non-null  float64\n",
            " 40  extreme_poverty                     33571 non-null  float64\n",
            " 41  cardiovasc_death_rate               51013 non-null  float64\n",
            " 42  diabetes_prevalence                 52881 non-null  float64\n",
            " 43  female_smokers                      39669 non-null  float64\n",
            " 44  male_smokers                        39156 non-null  float64\n",
            " 45  handwashing_facilities              24176 non-null  float64\n",
            " 46  hospital_beds_per_thousand          45936 non-null  float64\n",
            " 47  life_expectancy                     56336 non-null  float64\n",
            " 48  human_development_index             49247 non-null  float64\n",
            "dtypes: float64(45), object(4)\n",
            "memory usage: 21.5+ MB\n"
          ]
        }
      ]
    },
    {
      "cell_type": "code",
      "source": [
        "#3. Low Level Data Understanding :\n",
        " #a. Find count of unique values in location column.\n",
        " #b. Find which continent has maximum frequency using values counts.\n",
        " #c. Find maximum & mean value in 'total_cases'.\n",
        " #d. Find 25%,50% & 75% quartile value in 'total_deaths'.\n",
        " #e. Find which continent has maximum 'human_development_index'.\n",
        " #f. Find which continent has minimum 'gdp_per_capita'."
      ],
      "metadata": {
        "id": "J0R9Vgp5_NMi"
      },
      "execution_count": null,
      "outputs": []
    },
    {
      "cell_type": "code",
      "source": [
        "#a. Find count of unique values in location column."
      ],
      "metadata": {
        "id": "w7FvY57dAAu_"
      },
      "execution_count": null,
      "outputs": []
    },
    {
      "cell_type": "code",
      "source": [
        "print(df.location.unique())"
      ],
      "metadata": {
        "colab": {
          "base_uri": "https://localhost:8080/"
        },
        "id": "7GdRW9HDACFS",
        "outputId": "c85b4cd3-2dfc-448f-c208-a55268d0342a"
      },
      "execution_count": null,
      "outputs": [
        {
          "output_type": "stream",
          "name": "stdout",
          "text": [
            "['Afghanistan' 'Albania' 'Algeria' 'Andorra' 'Angola' 'Anguilla'\n",
            " 'Antigua and Barbuda' 'Argentina' 'Armenia' 'Aruba' 'Australia' 'Austria'\n",
            " 'Azerbaijan' 'Bahamas' 'Bahrain' 'Bangladesh' 'Barbados' 'Belarus'\n",
            " 'Belgium' 'Belize' 'Benin' 'Bermuda' 'Bhutan' 'Bolivia'\n",
            " 'Bonaire Sint Eustatius and Saba' 'Bosnia and Herzegovina' 'Botswana'\n",
            " 'Brazil' 'British Virgin Islands' 'Brunei' 'Bulgaria' 'Burkina Faso'\n",
            " 'Burundi' 'Cambodia' 'Cameroon' 'Canada' 'Cape Verde' 'Cayman Islands'\n",
            " 'Central African Republic' 'Chad' 'Chile' 'China' 'Colombia' 'Comoros'\n",
            " 'Congo' 'Costa Rica' \"Cote d'Ivoire\" 'Croatia' 'Cuba' 'Curacao' 'Cyprus'\n",
            " 'Czech Republic' 'Democratic Republic of Congo' 'Denmark' 'Djibouti'\n",
            " 'Dominica' 'Dominican Republic' 'Ecuador' 'Egypt' 'El Salvador'\n",
            " 'Equatorial Guinea' 'Eritrea' 'Estonia' 'Ethiopia' 'Faeroe Islands'\n",
            " 'Falkland Islands' 'Fiji' 'Finland' 'France' 'French Polynesia' 'Gabon'\n",
            " 'Gambia' 'Georgia' 'Germany' 'Ghana' 'Gibraltar' 'Greece' 'Greenland'\n",
            " 'Grenada' 'Guam' 'Guatemala' 'Guernsey' 'Guinea' 'Guinea-Bissau' 'Guyana'\n",
            " 'Haiti' 'Honduras' 'Hong Kong' 'Hungary' 'Iceland' 'India' 'Indonesia'\n",
            " 'Iran' 'Iraq' 'Ireland' 'Isle of Man' 'Israel' 'Italy' 'Jamaica' 'Japan'\n",
            " 'Jersey' 'Jordan' 'Kazakhstan' 'Kenya' 'Kosovo' 'Kuwait' 'Kyrgyzstan'\n",
            " 'Laos' 'Latvia' 'Lebanon' 'Lesotho' 'Liberia' 'Libya' 'Liechtenstein'\n",
            " 'Lithuania' 'Luxembourg' 'Macedonia' 'Madagascar' 'Malawi' 'Malaysia'\n",
            " 'Maldives' 'Mali' 'Malta' 'Marshall Islands' 'Mauritania' 'Mauritius'\n",
            " 'Mexico' 'Moldova' 'Monaco' 'Mongolia' 'Montenegro' 'Montserrat'\n",
            " 'Morocco' 'Mozambique' 'Myanmar' 'Namibia' 'Nepal' 'Netherlands'\n",
            " 'New Caledonia' 'New Zealand' 'Nicaragua' 'Niger' 'Nigeria'\n",
            " 'Northern Mariana Islands' 'Norway' 'Oman' 'Pakistan' 'Palestine'\n",
            " 'Panama' 'Papua New Guinea' 'Paraguay' 'Peru' 'Philippines' 'Poland'\n",
            " 'Portugal' 'Puerto Rico' 'Qatar' 'Romania' 'Russia' 'Rwanda'\n",
            " 'Saint Kitts and Nevis' 'Saint Lucia' 'Saint Vincent and the Grenadines'\n",
            " 'San Marino' 'Sao Tome and Principe' 'Saudi Arabia' 'Senegal' 'Serbia'\n",
            " 'Seychelles' 'Sierra Leone' 'Singapore' 'Sint Maarten (Dutch part)'\n",
            " 'Slovakia' 'Slovenia' 'Solomon Islands' 'Somalia' 'South Africa'\n",
            " 'South Korea' 'South Sudan' 'Spain' 'Sri Lanka' 'Sudan' 'Suriname'\n",
            " 'Swaziland' 'Sweden' 'Switzerland' 'Syria' 'Taiwan' 'Tajikistan'\n",
            " 'Tanzania' 'Thailand' 'Timor' 'Togo' 'Trinidad and Tobago' 'Tunisia'\n",
            " 'Turkey' 'Turks and Caicos Islands' 'Uganda' 'Ukraine'\n",
            " 'United Arab Emirates' 'United Kingdom' 'United States'\n",
            " 'United States Virgin Islands' 'Uruguay' 'Uzbekistan' 'Vanuatu' 'Vatican'\n",
            " 'Venezuela' 'Vietnam' 'Wallis and Futuna' 'Western Sahara' 'Yemen'\n",
            " 'Zambia' 'Zimbabwe' 'World' 'International']\n"
          ]
        }
      ]
    },
    {
      "cell_type": "code",
      "source": [
        " #b. Find which continent has maximum frequency using value counts"
      ],
      "metadata": {
        "id": "oeZZObe-AeF2"
      },
      "execution_count": null,
      "outputs": []
    },
    {
      "cell_type": "code",
      "source": [
        "df['continent'].value_counts().idxmax() \n"
      ],
      "metadata": {
        "colab": {
          "base_uri": "https://localhost:8080/",
          "height": 36
        },
        "id": "zUYV4UsaFKLs",
        "outputId": "227a6f4f-41c6-4133-9abc-71956f2bbdaf"
      },
      "execution_count": null,
      "outputs": [
        {
          "output_type": "execute_result",
          "data": {
            "text/plain": [
              "'Europe'"
            ],
            "application/vnd.google.colaboratory.intrinsic+json": {
              "type": "string"
            }
          },
          "metadata": {},
          "execution_count": 7
        }
      ]
    },
    {
      "cell_type": "code",
      "source": [
        "#c. Find maximum & mean value in 'total_cases'."
      ],
      "metadata": {
        "id": "XmQRy4wAF7cJ"
      },
      "execution_count": null,
      "outputs": []
    },
    {
      "cell_type": "code",
      "source": [
        "df['total_cases'].idxmax()"
      ],
      "metadata": {
        "colab": {
          "base_uri": "https://localhost:8080/"
        },
        "id": "Y8dRvvKOEMXR",
        "outputId": "c83de130-293a-4675-d8ca-ca2b5297b1d3"
      },
      "execution_count": null,
      "outputs": [
        {
          "output_type": "execute_result",
          "data": {
            "text/plain": [
              "57070"
            ]
          },
          "metadata": {},
          "execution_count": 11
        }
      ]
    },
    {
      "cell_type": "code",
      "source": [
        "df['total_cases'].idxmin()"
      ],
      "metadata": {
        "colab": {
          "base_uri": "https://localhost:8080/"
        },
        "id": "F7uMnvriHjie",
        "outputId": "3700130f-bc2d-4f3b-a7ec-db5f9ca51161"
      },
      "execution_count": null,
      "outputs": [
        {
          "output_type": "execute_result",
          "data": {
            "text/plain": [
              "56"
            ]
          },
          "metadata": {},
          "execution_count": 12
        }
      ]
    },
    {
      "cell_type": "code",
      "source": [
        " #d. Find 25%,50% & 75% quartile value in 'total_deaths'."
      ],
      "metadata": {
        "id": "CJ_uTpRmHok1"
      },
      "execution_count": null,
      "outputs": []
    },
    {
      "cell_type": "code",
      "source": [
        "df['total_deaths'].quantile([0.25, 0.5, 0.75])"
      ],
      "metadata": {
        "colab": {
          "base_uri": "https://localhost:8080/"
        },
        "id": "wjdhbYncI0UC",
        "outputId": "d1f2e61a-89e4-4118-8106-0c83249ae5ab"
      },
      "execution_count": null,
      "outputs": [
        {
          "output_type": "execute_result",
          "data": {
            "text/plain": [
              "0.25     13.0\n",
              "0.50     84.0\n",
              "0.75    727.0\n",
              "Name: total_deaths, dtype: float64"
            ]
          },
          "metadata": {},
          "execution_count": 17
        }
      ]
    },
    {
      "cell_type": "code",
      "source": [
        " #e. Find which continent has maximum 'human_development_index'."
      ],
      "metadata": {
        "id": "VLoOqd1QRIYx"
      },
      "execution_count": null,
      "outputs": []
    },
    {
      "cell_type": "code",
      "source": [
        "df['human_development_index'].value_counts().idxmax()"
      ],
      "metadata": {
        "colab": {
          "base_uri": "https://localhost:8080/"
        },
        "id": "uF2KKNbNSarn",
        "outputId": "0c30bb23-8486-4ae8-9f5e-3817c3d40e0c"
      },
      "execution_count": null,
      "outputs": [
        {
          "output_type": "execute_result",
          "data": {
            "text/plain": [
              "0.757"
            ]
          },
          "metadata": {},
          "execution_count": 22
        }
      ]
    },
    {
      "cell_type": "code",
      "source": [
        "df['human_development_index'].idxmax()"
      ],
      "metadata": {
        "colab": {
          "base_uri": "https://localhost:8080/"
        },
        "id": "tHAZSJ3TU8W_",
        "outputId": "98ee8de6-11b8-4632-a6ce-37ee7ab922bb"
      },
      "execution_count": null,
      "outputs": [
        {
          "output_type": "execute_result",
          "data": {
            "text/plain": [
              "38632"
            ]
          },
          "metadata": {},
          "execution_count": 23
        }
      ]
    },
    {
      "cell_type": "code",
      "source": [
        "#f. Find which continent has minimum 'gdp_per_capita'."
      ],
      "metadata": {
        "id": "6r6NjsTKVvrQ"
      },
      "execution_count": null,
      "outputs": []
    },
    {
      "cell_type": "code",
      "source": [
        "df['gdp_per_capita'].value_counts().idxmin()"
      ],
      "metadata": {
        "colab": {
          "base_uri": "https://localhost:8080/"
        },
        "id": "r4LfGXcCWLQU",
        "outputId": "6e0117a0-3b08-4a91-93f6-3b29465563f7"
      },
      "execution_count": null,
      "outputs": [
        {
          "output_type": "execute_result",
          "data": {
            "text/plain": [
              "2921.909"
            ]
          },
          "metadata": {},
          "execution_count": 25
        }
      ]
    },
    {
      "cell_type": "code",
      "source": [
        "df['gdp_per_capita'].idxmin()"
      ],
      "metadata": {
        "colab": {
          "base_uri": "https://localhost:8080/"
        },
        "id": "i4QDndlgWUOX",
        "outputId": "c75c7252-1ba0-43f9-fdf9-7227a1a2d2a5"
      },
      "execution_count": null,
      "outputs": [
        {
          "output_type": "execute_result",
          "data": {
            "text/plain": [
              "10259"
            ]
          },
          "metadata": {},
          "execution_count": 26
        }
      ]
    },
    {
      "cell_type": "code",
      "source": [
        "#4. Filter the dataframe with only this columns['continent','location','date','total_cases','total_deaths','gdp_per_capita','human_development_index'] and update the data frame."
      ],
      "metadata": {
        "id": "Hh76I2enWaSf"
      },
      "execution_count": null,
      "outputs": []
    },
    {
      "cell_type": "code",
      "source": [
        "df_4 = df.copy()"
      ],
      "metadata": {
        "id": "r8KjlEosWvxm"
      },
      "execution_count": 3,
      "outputs": []
    },
    {
      "cell_type": "code",
      "source": [
        "# filtering values where continrnt is asia and total_death_cases greater than 5000\n",
        "print(df_4[(df_4['continent']=='Asia')&(df_4['total_deaths']>5000)])"
      ],
      "metadata": {
        "colab": {
          "base_uri": "https://localhost:8080/"
        },
        "id": "jd-AHGwVyqdy",
        "outputId": "1044f910-73f6-42ab-8181-fd142e6d6735"
      },
      "execution_count": 4,
      "outputs": [
        {
          "output_type": "stream",
          "name": "stdout",
          "text": [
            "      iso_code continent    location      date  total_cases  new_cases  \\\n",
            "4442       BGD      Asia  Bangladesh  23/09/20     352178.0     1557.0   \n",
            "4443       BGD      Asia  Bangladesh  24/09/20     353844.0     1666.0   \n",
            "4444       BGD      Asia  Bangladesh  25/09/20     355384.0     1540.0   \n",
            "4445       BGD      Asia  Bangladesh  26/09/20     356767.0     1383.0   \n",
            "4446       BGD      Asia  Bangladesh  27/09/20     357873.0     1106.0   \n",
            "...        ...       ...         ...       ...          ...        ...   \n",
            "52532      TUR      Asia      Turkey  13/11/20     404894.0     2841.0   \n",
            "52533      TUR      Asia      Turkey  14/11/20     407939.0     3045.0   \n",
            "52534      TUR      Asia      Turkey  15/11/20     411055.0     3116.0   \n",
            "52535      TUR      Asia      Turkey  16/11/20     414278.0     3223.0   \n",
            "52536      TUR      Asia      Turkey  17/11/20     417594.0     3316.0   \n",
            "\n",
            "       new_cases_smoothed  total_deaths  new_deaths  new_deaths_smoothed  ...  \\\n",
            "4442             1588.857        5007.0        28.0               29.286  ...   \n",
            "4443             1596.143        5044.0        37.0               31.571  ...   \n",
            "4444             1588.571        5072.0        28.0               30.429  ...   \n",
            "4445             1566.000        5093.0        21.0               30.286  ...   \n",
            "4446             1500.143        5129.0        36.0               30.857  ...   \n",
            "...                   ...           ...         ...                  ...  ...   \n",
            "52532            2582.000       11233.0        88.0               84.857  ...   \n",
            "52533            2669.000       11326.0        93.0               86.286  ...   \n",
            "52534            2759.429       11418.0        92.0               87.857  ...   \n",
            "52535            2860.429       11507.0        89.0               88.571  ...   \n",
            "52536            2966.143       11601.0        94.0               89.857  ...   \n",
            "\n",
            "       gdp_per_capita  extreme_poverty  cardiovasc_death_rate  \\\n",
            "4442         3523.984             14.8                298.003   \n",
            "4443         3523.984             14.8                298.003   \n",
            "4444         3523.984             14.8                298.003   \n",
            "4445         3523.984             14.8                298.003   \n",
            "4446         3523.984             14.8                298.003   \n",
            "...               ...              ...                    ...   \n",
            "52532       25129.341              0.2                171.285   \n",
            "52533       25129.341              0.2                171.285   \n",
            "52534       25129.341              0.2                171.285   \n",
            "52535       25129.341              0.2                171.285   \n",
            "52536       25129.341              0.2                171.285   \n",
            "\n",
            "       diabetes_prevalence  female_smokers  male_smokers  \\\n",
            "4442                  8.38             1.0          44.7   \n",
            "4443                  8.38             1.0          44.7   \n",
            "4444                  8.38             1.0          44.7   \n",
            "4445                  8.38             1.0          44.7   \n",
            "4446                  8.38             1.0          44.7   \n",
            "...                    ...             ...           ...   \n",
            "52532                12.13            14.1          41.1   \n",
            "52533                12.13            14.1          41.1   \n",
            "52534                12.13            14.1          41.1   \n",
            "52535                12.13            14.1          41.1   \n",
            "52536                12.13            14.1          41.1   \n",
            "\n",
            "       handwashing_facilities  hospital_beds_per_thousand  life_expectancy  \\\n",
            "4442                   34.808                        0.80            72.59   \n",
            "4443                   34.808                        0.80            72.59   \n",
            "4444                   34.808                        0.80            72.59   \n",
            "4445                   34.808                        0.80            72.59   \n",
            "4446                   34.808                        0.80            72.59   \n",
            "...                       ...                         ...              ...   \n",
            "52532                     NaN                        2.81            77.69   \n",
            "52533                     NaN                        2.81            77.69   \n",
            "52534                     NaN                        2.81            77.69   \n",
            "52535                     NaN                        2.81            77.69   \n",
            "52536                     NaN                        2.81            77.69   \n",
            "\n",
            "       human_development_index  \n",
            "4442                     0.608  \n",
            "4443                     0.608  \n",
            "4444                     0.608  \n",
            "4445                     0.608  \n",
            "4446                     0.608  \n",
            "...                        ...  \n",
            "52532                    0.791  \n",
            "52533                    0.791  \n",
            "52534                    0.791  \n",
            "52535                    0.791  \n",
            "52536                    0.791  \n",
            "\n",
            "[1027 rows x 49 columns]\n"
          ]
        }
      ]
    },
    {
      "cell_type": "code",
      "source": [
        "# filtering data where gdp_per_capita is greater than 1500 and human_development_index is maximum\n",
        "print(df_4[(df_4['gdp_per_capita']>1500) & (df_4['human_development_index']==max(df_4['human_development_index']))])"
      ],
      "metadata": {
        "colab": {
          "base_uri": "https://localhost:8080/"
        },
        "id": "X6-r8cX0ywJ3",
        "outputId": "f7800d02-9bf8-4251-9798-3813a36ac41b"
      },
      "execution_count": 5,
      "outputs": [
        {
          "output_type": "stream",
          "name": "stdout",
          "text": [
            "      iso_code continent location      date  total_cases  new_cases  \\\n",
            "38632      NOR    Europe   Norway  31/12/19          NaN        0.0   \n",
            "38633      NOR    Europe   Norway  01/01/20          NaN        0.0   \n",
            "38634      NOR    Europe   Norway  02/01/20          NaN        0.0   \n",
            "38635      NOR    Europe   Norway  03/01/20          NaN        0.0   \n",
            "38636      NOR    Europe   Norway  04/01/20          NaN        0.0   \n",
            "...        ...       ...      ...       ...          ...        ...   \n",
            "38950      NOR    Europe   Norway  13/11/20      26503.0      618.0   \n",
            "38951      NOR    Europe   Norway  14/11/20      27226.0      723.0   \n",
            "38952      NOR    Europe   Norway  15/11/20      27226.0        0.0   \n",
            "38953      NOR    Europe   Norway  16/11/20      27226.0        0.0   \n",
            "38954      NOR    Europe   Norway  17/11/20      28963.0     1737.0   \n",
            "\n",
            "       new_cases_smoothed  total_deaths  new_deaths  new_deaths_smoothed  ...  \\\n",
            "38632                 NaN           NaN         0.0                  NaN  ...   \n",
            "38633                 NaN           NaN         0.0                  NaN  ...   \n",
            "38634                 NaN           NaN         0.0                  NaN  ...   \n",
            "38635                 NaN           NaN         0.0                  NaN  ...   \n",
            "38636                 NaN           NaN         0.0                  NaN  ...   \n",
            "...                   ...           ...         ...                  ...  ...   \n",
            "38950             561.143         291.0         6.0                1.000  ...   \n",
            "38951             571.571         294.0         3.0                1.286  ...   \n",
            "38952             571.571         294.0         0.0                1.286  ...   \n",
            "38953             571.571         294.0         0.0                1.286  ...   \n",
            "38954             605.143         294.0         0.0                1.286  ...   \n",
            "\n",
            "       gdp_per_capita  extreme_poverty  cardiovasc_death_rate  \\\n",
            "38632       64800.057              0.2                114.316   \n",
            "38633       64800.057              0.2                114.316   \n",
            "38634       64800.057              0.2                114.316   \n",
            "38635       64800.057              0.2                114.316   \n",
            "38636       64800.057              0.2                114.316   \n",
            "...               ...              ...                    ...   \n",
            "38950       64800.057              0.2                114.316   \n",
            "38951       64800.057              0.2                114.316   \n",
            "38952       64800.057              0.2                114.316   \n",
            "38953       64800.057              0.2                114.316   \n",
            "38954       64800.057              0.2                114.316   \n",
            "\n",
            "       diabetes_prevalence  female_smokers  male_smokers  \\\n",
            "38632                 5.31            19.6          20.7   \n",
            "38633                 5.31            19.6          20.7   \n",
            "38634                 5.31            19.6          20.7   \n",
            "38635                 5.31            19.6          20.7   \n",
            "38636                 5.31            19.6          20.7   \n",
            "...                    ...             ...           ...   \n",
            "38950                 5.31            19.6          20.7   \n",
            "38951                 5.31            19.6          20.7   \n",
            "38952                 5.31            19.6          20.7   \n",
            "38953                 5.31            19.6          20.7   \n",
            "38954                 5.31            19.6          20.7   \n",
            "\n",
            "       handwashing_facilities  hospital_beds_per_thousand  life_expectancy  \\\n",
            "38632                     NaN                         3.6             82.4   \n",
            "38633                     NaN                         3.6             82.4   \n",
            "38634                     NaN                         3.6             82.4   \n",
            "38635                     NaN                         3.6             82.4   \n",
            "38636                     NaN                         3.6             82.4   \n",
            "...                       ...                         ...              ...   \n",
            "38950                     NaN                         3.6             82.4   \n",
            "38951                     NaN                         3.6             82.4   \n",
            "38952                     NaN                         3.6             82.4   \n",
            "38953                     NaN                         3.6             82.4   \n",
            "38954                     NaN                         3.6             82.4   \n",
            "\n",
            "       human_development_index  \n",
            "38632                    0.953  \n",
            "38633                    0.953  \n",
            "38634                    0.953  \n",
            "38635                    0.953  \n",
            "38636                    0.953  \n",
            "...                        ...  \n",
            "38950                    0.953  \n",
            "38951                    0.953  \n",
            "38952                    0.953  \n",
            "38953                    0.953  \n",
            "38954                    0.953  \n",
            "\n",
            "[323 rows x 49 columns]\n"
          ]
        }
      ]
    },
    {
      "cell_type": "code",
      "source": [],
      "metadata": {
        "id": "dn9yj6j1y6hO"
      },
      "execution_count": 45,
      "outputs": []
    },
    {
      "cell_type": "code",
      "source": [
        "# filtering dataset where total_cases equals to total_deaths\n",
        "print(df_4[df_4['total_cases']==df_4['total_deaths']])"
      ],
      "metadata": {
        "colab": {
          "base_uri": "https://localhost:8080/"
        },
        "id": "xtdnIRy_zCj6",
        "outputId": "13942b0c-ce84-4938-a82c-743beeca7807"
      },
      "execution_count": 12,
      "outputs": [
        {
          "output_type": "stream",
          "name": "stdout",
          "text": [
            "      iso_code      continent   location      date  total_cases  new_cases  \\\n",
            "21637      GTM  North America  Guatemala  16/03/20          1.0        0.0   \n",
            "22611      GUY  South America     Guyana  13/03/20          1.0        1.0   \n",
            "24702      IRN           Asia       Iran  20/02/20          2.0        2.0   \n",
            "48569      SDN         Africa      Sudan  15/03/20          1.0        0.0   \n",
            "48570      SDN         Africa      Sudan  16/03/20          1.0        0.0   \n",
            "48571      SDN         Africa      Sudan  17/03/20          1.0        0.0   \n",
            "48572      SDN         Africa      Sudan  18/03/20          1.0        0.0   \n",
            "\n",
            "       new_cases_smoothed  total_deaths  new_deaths  new_deaths_smoothed  ...  \\\n",
            "21637                 NaN           1.0         1.0                  NaN  ...   \n",
            "22611                 NaN           1.0         1.0                  NaN  ...   \n",
            "24702               0.286           2.0         2.0                0.286  ...   \n",
            "48569                 NaN           1.0         1.0                  NaN  ...   \n",
            "48570                 NaN           1.0         0.0                  NaN  ...   \n",
            "48571                 NaN           1.0         0.0                  NaN  ...   \n",
            "48572                 NaN           1.0         0.0                  NaN  ...   \n",
            "\n",
            "       gdp_per_capita  extreme_poverty  cardiovasc_death_rate  \\\n",
            "21637        7423.808              8.7                155.898   \n",
            "22611        7435.047              NaN                373.159   \n",
            "24702       19082.620              0.2                270.308   \n",
            "48569        4466.507              NaN                431.388   \n",
            "48570        4466.507              NaN                431.388   \n",
            "48571        4466.507              NaN                431.388   \n",
            "48572        4466.507              NaN                431.388   \n",
            "\n",
            "       diabetes_prevalence  female_smokers  male_smokers  \\\n",
            "21637                10.18             NaN           NaN   \n",
            "22611                11.62             NaN           NaN   \n",
            "24702                 9.59             0.8          21.1   \n",
            "48569                15.67             NaN           NaN   \n",
            "48570                15.67             NaN           NaN   \n",
            "48571                15.67             NaN           NaN   \n",
            "48572                15.67             NaN           NaN   \n",
            "\n",
            "       handwashing_facilities  hospital_beds_per_thousand  life_expectancy  \\\n",
            "21637                  76.665                         0.6            74.30   \n",
            "22611                  77.159                         1.6            69.91   \n",
            "24702                     NaN                         1.5            76.68   \n",
            "48569                  23.437                         0.8            65.31   \n",
            "48570                  23.437                         0.8            65.31   \n",
            "48571                  23.437                         0.8            65.31   \n",
            "48572                  23.437                         0.8            65.31   \n",
            "\n",
            "       human_development_index  \n",
            "21637                    0.650  \n",
            "22611                    0.654  \n",
            "24702                    0.798  \n",
            "48569                    0.502  \n",
            "48570                    0.502  \n",
            "48571                    0.502  \n",
            "48572                    0.502  \n",
            "\n",
            "[7 rows x 49 columns]\n"
          ]
        }
      ]
    },
    {
      "cell_type": "code",
      "source": [
        "print(df_4.sort_values(by=['continent','location','total_deaths']).nsmallest(5,['human_development_index']))\n"
      ],
      "metadata": {
        "colab": {
          "base_uri": "https://localhost:8080/"
        },
        "id": "svPLpDYo0Wsx",
        "outputId": "eeb9abb8-7252-4e40-df87-383f4d711123"
      },
      "execution_count": 13,
      "outputs": [
        {
          "output_type": "stream",
          "name": "stdout",
          "text": [
            "      iso_code continent location      date  total_cases  new_cases  \\\n",
            "37839      NER    Africa    Niger  25/03/20          7.0        5.0   \n",
            "37840      NER    Africa    Niger  26/03/20          7.0        0.0   \n",
            "37841      NER    Africa    Niger  27/03/20         10.0        3.0   \n",
            "37842      NER    Africa    Niger  28/03/20         10.0        0.0   \n",
            "37843      NER    Africa    Niger  29/03/20         10.0        0.0   \n",
            "\n",
            "       new_cases_smoothed  total_deaths  new_deaths  new_deaths_smoothed  ...  \\\n",
            "37839                 NaN           1.0         1.0                  NaN  ...   \n",
            "37840                 NaN           1.0         0.0                  NaN  ...   \n",
            "37841               1.429           1.0         0.0                0.143  ...   \n",
            "37842               1.286           1.0         0.0                0.143  ...   \n",
            "37843               1.286           1.0         0.0                0.143  ...   \n",
            "\n",
            "       gdp_per_capita  extreme_poverty  cardiovasc_death_rate  \\\n",
            "37839           926.0             44.5                238.339   \n",
            "37840           926.0             44.5                238.339   \n",
            "37841           926.0             44.5                238.339   \n",
            "37842           926.0             44.5                238.339   \n",
            "37843           926.0             44.5                238.339   \n",
            "\n",
            "       diabetes_prevalence  female_smokers  male_smokers  \\\n",
            "37839                 2.42             0.1          15.4   \n",
            "37840                 2.42             0.1          15.4   \n",
            "37841                 2.42             0.1          15.4   \n",
            "37842                 2.42             0.1          15.4   \n",
            "37843                 2.42             0.1          15.4   \n",
            "\n",
            "       handwashing_facilities  hospital_beds_per_thousand  life_expectancy  \\\n",
            "37839                   8.978                         0.3            62.42   \n",
            "37840                   8.978                         0.3            62.42   \n",
            "37841                   8.978                         0.3            62.42   \n",
            "37842                   8.978                         0.3            62.42   \n",
            "37843                   8.978                         0.3            62.42   \n",
            "\n",
            "       human_development_index  \n",
            "37839                    0.354  \n",
            "37840                    0.354  \n",
            "37841                    0.354  \n",
            "37842                    0.354  \n",
            "37843                    0.354  \n",
            "\n",
            "[5 rows x 49 columns]\n"
          ]
        }
      ]
    },
    {
      "cell_type": "code",
      "source": [
        "#5. Data Cleaning\n",
        "# a. Remove all duplicates observations\n",
        " #b. Find missing values in all columns\n",
        " #c. Remove all observations where continent column value is missing\n",
        "# Tip : using subset parameter in dropna\n",
        " #d. Fill all missing values with 0\n"
      ],
      "metadata": {
        "id": "Wz1HB3vf0dc0"
      },
      "execution_count": 14,
      "outputs": []
    },
    {
      "cell_type": "code",
      "source": [
        "# a. Remove all duplicates observations\n",
        "df_5 = df.copy()\n",
        "df_5=df_5.drop_duplicates()\n",
        "print(df_5)\n",
        "df_5.shape"
      ],
      "metadata": {
        "colab": {
          "base_uri": "https://localhost:8080/"
        },
        "id": "l8yEuoTn02Rl",
        "outputId": "52f9626e-3f73-4810-cb68-ee65d269cc12"
      },
      "execution_count": 15,
      "outputs": [
        {
          "output_type": "stream",
          "name": "stdout",
          "text": [
            "      iso_code continent       location      date  total_cases  new_cases  \\\n",
            "0          AFG      Asia    Afghanistan  31/12/19          NaN        0.0   \n",
            "1          AFG      Asia    Afghanistan  01/01/20          NaN        0.0   \n",
            "2          AFG      Asia    Afghanistan  02/01/20          NaN        0.0   \n",
            "3          AFG      Asia    Afghanistan  03/01/20          NaN        0.0   \n",
            "4          AFG      Asia    Afghanistan  04/01/20          NaN        0.0   \n",
            "...        ...       ...            ...       ...          ...        ...   \n",
            "57389      NaN       NaN  International  13/11/20        696.0        NaN   \n",
            "57390      NaN       NaN  International  14/11/20        696.0        NaN   \n",
            "57391      NaN       NaN  International  15/11/20        696.0        NaN   \n",
            "57392      NaN       NaN  International  16/11/20        696.0        NaN   \n",
            "57393      NaN       NaN  International  17/11/20        696.0        NaN   \n",
            "\n",
            "       new_cases_smoothed  total_deaths  new_deaths  new_deaths_smoothed  ...  \\\n",
            "0                     NaN           NaN         0.0                  NaN  ...   \n",
            "1                     NaN           NaN         0.0                  NaN  ...   \n",
            "2                     NaN           NaN         0.0                  NaN  ...   \n",
            "3                     NaN           NaN         0.0                  NaN  ...   \n",
            "4                     NaN           NaN         0.0                  NaN  ...   \n",
            "...                   ...           ...         ...                  ...  ...   \n",
            "57389                 NaN           7.0         NaN                  NaN  ...   \n",
            "57390                 NaN           7.0         NaN                  NaN  ...   \n",
            "57391                 NaN           7.0         NaN                  NaN  ...   \n",
            "57392                 NaN           7.0         NaN                  NaN  ...   \n",
            "57393                 NaN           7.0         NaN                  NaN  ...   \n",
            "\n",
            "       gdp_per_capita  extreme_poverty  cardiovasc_death_rate  \\\n",
            "0            1803.987              NaN                597.029   \n",
            "1            1803.987              NaN                597.029   \n",
            "2            1803.987              NaN                597.029   \n",
            "3            1803.987              NaN                597.029   \n",
            "4            1803.987              NaN                597.029   \n",
            "...               ...              ...                    ...   \n",
            "57389             NaN              NaN                    NaN   \n",
            "57390             NaN              NaN                    NaN   \n",
            "57391             NaN              NaN                    NaN   \n",
            "57392             NaN              NaN                    NaN   \n",
            "57393             NaN              NaN                    NaN   \n",
            "\n",
            "       diabetes_prevalence  female_smokers  male_smokers  \\\n",
            "0                     9.59             NaN           NaN   \n",
            "1                     9.59             NaN           NaN   \n",
            "2                     9.59             NaN           NaN   \n",
            "3                     9.59             NaN           NaN   \n",
            "4                     9.59             NaN           NaN   \n",
            "...                    ...             ...           ...   \n",
            "57389                  NaN             NaN           NaN   \n",
            "57390                  NaN             NaN           NaN   \n",
            "57391                  NaN             NaN           NaN   \n",
            "57392                  NaN             NaN           NaN   \n",
            "57393                  NaN             NaN           NaN   \n",
            "\n",
            "       handwashing_facilities  hospital_beds_per_thousand  life_expectancy  \\\n",
            "0                      37.746                         0.5            64.83   \n",
            "1                      37.746                         0.5            64.83   \n",
            "2                      37.746                         0.5            64.83   \n",
            "3                      37.746                         0.5            64.83   \n",
            "4                      37.746                         0.5            64.83   \n",
            "...                       ...                         ...              ...   \n",
            "57389                     NaN                         NaN              NaN   \n",
            "57390                     NaN                         NaN              NaN   \n",
            "57391                     NaN                         NaN              NaN   \n",
            "57392                     NaN                         NaN              NaN   \n",
            "57393                     NaN                         NaN              NaN   \n",
            "\n",
            "       human_development_index  \n",
            "0                        0.498  \n",
            "1                        0.498  \n",
            "2                        0.498  \n",
            "3                        0.498  \n",
            "4                        0.498  \n",
            "...                        ...  \n",
            "57389                      NaN  \n",
            "57390                      NaN  \n",
            "57391                      NaN  \n",
            "57392                      NaN  \n",
            "57393                      NaN  \n",
            "\n",
            "[57394 rows x 49 columns]\n"
          ]
        },
        {
          "output_type": "execute_result",
          "data": {
            "text/plain": [
              "(57394, 49)"
            ]
          },
          "metadata": {},
          "execution_count": 15
        }
      ]
    },
    {
      "cell_type": "code",
      "source": [
        "# b. Find missing values in all columns\n",
        "df_missing = df.copy()\n",
        "print(f\"missing values in all columns\\n{df_missing.isna().sum()}\")"
      ],
      "metadata": {
        "colab": {
          "base_uri": "https://localhost:8080/"
        },
        "id": "eFlb-7ug056I",
        "outputId": "3e236db1-676b-429c-f3c5-15cde2e95254"
      },
      "execution_count": 16,
      "outputs": [
        {
          "output_type": "stream",
          "name": "stdout",
          "text": [
            "missing values in all columns\n",
            "iso_code                                323\n",
            "continent                               646\n",
            "location                                  0\n",
            "date                                      0\n",
            "total_cases                            3636\n",
            "new_cases                               929\n",
            "new_cases_smoothed                     1742\n",
            "total_deaths                          13026\n",
            "new_deaths                              929\n",
            "new_deaths_smoothed                    1742\n",
            "total_cases_per_million                3923\n",
            "new_cases_per_million                   993\n",
            "new_cases_smoothed_per_million         1807\n",
            "total_deaths_per_million              13298\n",
            "new_deaths_per_million                  993\n",
            "new_deaths_smoothed_per_million        1807\n",
            "reproduction_rate                     19698\n",
            "icu_patients                          52904\n",
            "icu_patients_per_million              52904\n",
            "hosp_patients                         52389\n",
            "hosp_patients_per_million             52389\n",
            "weekly_icu_admissions                 57037\n",
            "weekly_icu_admissions_per_million     57037\n",
            "weekly_hosp_admissions                56749\n",
            "weekly_hosp_admissions_per_million    56749\n",
            "total_tests                           35377\n",
            "new_tests                             35607\n",
            "total_tests_per_thousand              35377\n",
            "new_tests_per_thousand                35607\n",
            "new_tests_smoothed                    32782\n",
            "new_tests_smoothed_per_thousand       32782\n",
            "tests_per_case                        34592\n",
            "positive_rate                         34183\n",
            "stringency_index                       9547\n",
            "population                              323\n",
            "population_density                     3023\n",
            "median_age                             6360\n",
            "aged_65_older                          7129\n",
            "aged_70_older                          6626\n",
            "gdp_per_capita                         7027\n",
            "extreme_poverty                       23823\n",
            "cardiovasc_death_rate                  6381\n",
            "diabetes_prevalence                    4513\n",
            "female_smokers                        17725\n",
            "male_smokers                          18238\n",
            "handwashing_facilities                33218\n",
            "hospital_beds_per_thousand            11458\n",
            "life_expectancy                        1058\n",
            "human_development_index                8147\n",
            "dtype: int64\n"
          ]
        }
      ]
    },
    {
      "cell_type": "code",
      "source": [
        "# solution2\n",
        "print(f\"missing values in all columns\\n{df_missing.isnull().sum()}\")"
      ],
      "metadata": {
        "colab": {
          "base_uri": "https://localhost:8080/"
        },
        "id": "XCIfQVxQ8pdr",
        "outputId": "69b5e1ff-f749-4e00-a969-9d90f8a17219"
      },
      "execution_count": 43,
      "outputs": [
        {
          "output_type": "stream",
          "name": "stdout",
          "text": [
            "missing values in all columns\n",
            "iso_code                                323\n",
            "continent                               646\n",
            "location                                  0\n",
            "date                                      0\n",
            "total_cases                            3636\n",
            "new_cases                               929\n",
            "new_cases_smoothed                     1742\n",
            "total_deaths                          13026\n",
            "new_deaths                              929\n",
            "new_deaths_smoothed                    1742\n",
            "total_cases_per_million                3923\n",
            "new_cases_per_million                   993\n",
            "new_cases_smoothed_per_million         1807\n",
            "total_deaths_per_million              13298\n",
            "new_deaths_per_million                  993\n",
            "new_deaths_smoothed_per_million        1807\n",
            "reproduction_rate                     19698\n",
            "icu_patients                          52904\n",
            "icu_patients_per_million              52904\n",
            "hosp_patients                         52389\n",
            "hosp_patients_per_million             52389\n",
            "weekly_icu_admissions                 57037\n",
            "weekly_icu_admissions_per_million     57037\n",
            "weekly_hosp_admissions                56749\n",
            "weekly_hosp_admissions_per_million    56749\n",
            "total_tests                           35377\n",
            "new_tests                             35607\n",
            "total_tests_per_thousand              35377\n",
            "new_tests_per_thousand                35607\n",
            "new_tests_smoothed                    32782\n",
            "new_tests_smoothed_per_thousand       32782\n",
            "tests_per_case                        34592\n",
            "positive_rate                         34183\n",
            "stringency_index                       9547\n",
            "population                              323\n",
            "population_density                     3023\n",
            "median_age                             6360\n",
            "aged_65_older                          7129\n",
            "aged_70_older                          6626\n",
            "gdp_per_capita                         7027\n",
            "extreme_poverty                       23823\n",
            "cardiovasc_death_rate                  6381\n",
            "diabetes_prevalence                    4513\n",
            "female_smokers                        17725\n",
            "male_smokers                          18238\n",
            "handwashing_facilities                33218\n",
            "hospital_beds_per_thousand            11458\n",
            "life_expectancy                        1058\n",
            "human_development_index                8147\n",
            "dtype: int64\n"
          ]
        }
      ]
    },
    {
      "cell_type": "code",
      "source": [],
      "metadata": {
        "id": "zfBvUn8c0_Kz"
      },
      "execution_count": 45,
      "outputs": []
    },
    {
      "cell_type": "code",
      "source": [
        "# d. Fill all missing values with 0\n",
        "df_fill = df.copy()\n",
        "df_fill=df_fill.fillna(0)\n",
        "print(f\"after filling null values with 0\\n{df_fill}\")"
      ],
      "metadata": {
        "colab": {
          "base_uri": "https://localhost:8080/"
        },
        "id": "4do6wofN1HTR",
        "outputId": "0c01b4b7-1da2-40fe-a573-9a049614ca96"
      },
      "execution_count": 18,
      "outputs": [
        {
          "output_type": "stream",
          "name": "stdout",
          "text": [
            "after filling null values with 0\n",
            "      iso_code continent       location      date  total_cases  new_cases  \\\n",
            "0          AFG      Asia    Afghanistan  31/12/19          0.0        0.0   \n",
            "1          AFG      Asia    Afghanistan  01/01/20          0.0        0.0   \n",
            "2          AFG      Asia    Afghanistan  02/01/20          0.0        0.0   \n",
            "3          AFG      Asia    Afghanistan  03/01/20          0.0        0.0   \n",
            "4          AFG      Asia    Afghanistan  04/01/20          0.0        0.0   \n",
            "...        ...       ...            ...       ...          ...        ...   \n",
            "57389        0         0  International  13/11/20        696.0        0.0   \n",
            "57390        0         0  International  14/11/20        696.0        0.0   \n",
            "57391        0         0  International  15/11/20        696.0        0.0   \n",
            "57392        0         0  International  16/11/20        696.0        0.0   \n",
            "57393        0         0  International  17/11/20        696.0        0.0   \n",
            "\n",
            "       new_cases_smoothed  total_deaths  new_deaths  new_deaths_smoothed  ...  \\\n",
            "0                     0.0           0.0         0.0                  0.0  ...   \n",
            "1                     0.0           0.0         0.0                  0.0  ...   \n",
            "2                     0.0           0.0         0.0                  0.0  ...   \n",
            "3                     0.0           0.0         0.0                  0.0  ...   \n",
            "4                     0.0           0.0         0.0                  0.0  ...   \n",
            "...                   ...           ...         ...                  ...  ...   \n",
            "57389                 0.0           7.0         0.0                  0.0  ...   \n",
            "57390                 0.0           7.0         0.0                  0.0  ...   \n",
            "57391                 0.0           7.0         0.0                  0.0  ...   \n",
            "57392                 0.0           7.0         0.0                  0.0  ...   \n",
            "57393                 0.0           7.0         0.0                  0.0  ...   \n",
            "\n",
            "       gdp_per_capita  extreme_poverty  cardiovasc_death_rate  \\\n",
            "0            1803.987              0.0                597.029   \n",
            "1            1803.987              0.0                597.029   \n",
            "2            1803.987              0.0                597.029   \n",
            "3            1803.987              0.0                597.029   \n",
            "4            1803.987              0.0                597.029   \n",
            "...               ...              ...                    ...   \n",
            "57389           0.000              0.0                  0.000   \n",
            "57390           0.000              0.0                  0.000   \n",
            "57391           0.000              0.0                  0.000   \n",
            "57392           0.000              0.0                  0.000   \n",
            "57393           0.000              0.0                  0.000   \n",
            "\n",
            "       diabetes_prevalence  female_smokers  male_smokers  \\\n",
            "0                     9.59             0.0           0.0   \n",
            "1                     9.59             0.0           0.0   \n",
            "2                     9.59             0.0           0.0   \n",
            "3                     9.59             0.0           0.0   \n",
            "4                     9.59             0.0           0.0   \n",
            "...                    ...             ...           ...   \n",
            "57389                 0.00             0.0           0.0   \n",
            "57390                 0.00             0.0           0.0   \n",
            "57391                 0.00             0.0           0.0   \n",
            "57392                 0.00             0.0           0.0   \n",
            "57393                 0.00             0.0           0.0   \n",
            "\n",
            "       handwashing_facilities  hospital_beds_per_thousand  life_expectancy  \\\n",
            "0                      37.746                         0.5            64.83   \n",
            "1                      37.746                         0.5            64.83   \n",
            "2                      37.746                         0.5            64.83   \n",
            "3                      37.746                         0.5            64.83   \n",
            "4                      37.746                         0.5            64.83   \n",
            "...                       ...                         ...              ...   \n",
            "57389                   0.000                         0.0             0.00   \n",
            "57390                   0.000                         0.0             0.00   \n",
            "57391                   0.000                         0.0             0.00   \n",
            "57392                   0.000                         0.0             0.00   \n",
            "57393                   0.000                         0.0             0.00   \n",
            "\n",
            "       human_development_index  \n",
            "0                        0.498  \n",
            "1                        0.498  \n",
            "2                        0.498  \n",
            "3                        0.498  \n",
            "4                        0.498  \n",
            "...                        ...  \n",
            "57389                    0.000  \n",
            "57390                    0.000  \n",
            "57391                    0.000  \n",
            "57392                    0.000  \n",
            "57393                    0.000  \n",
            "\n",
            "[57394 rows x 49 columns]\n"
          ]
        }
      ]
    },
    {
      "cell_type": "code",
      "source": [
        "#6. Date time format :\n",
        "# a. Convert date column in datetime format using \n",
        "#pandas.to_datetime\n",
        "# b. Create new column month after extracting month data from date column.\n"
      ],
      "metadata": {
        "id": "FalHnufb1Rvw"
      },
      "execution_count": 19,
      "outputs": []
    },
    {
      "cell_type": "code",
      "source": [],
      "metadata": {
        "id": "d3ELDAsG1i1j"
      },
      "execution_count": 21,
      "outputs": []
    },
    {
      "cell_type": "code",
      "source": [
        "# a. Convert date column in datetime format using pandas.to_datetime\n",
        "df_date = df.copy()\n",
        "df_date['date'] = pd.to_datetime(df_date['date'])\n",
        "print(df_date['date'].dtype)"
      ],
      "metadata": {
        "colab": {
          "base_uri": "https://localhost:8080/"
        },
        "id": "HVecEkAq1mkZ",
        "outputId": "89f9a0f0-b2a9-463b-e437-f7fae13ac525"
      },
      "execution_count": 22,
      "outputs": [
        {
          "output_type": "stream",
          "name": "stdout",
          "text": [
            "datetime64[ns]\n"
          ]
        }
      ]
    },
    {
      "cell_type": "code",
      "source": [
        "# b. Create new column month after extracting month data from date column\n",
        "df_date['month']=df_date['date'].dt.month\n",
        "print(df_date.head())"
      ],
      "metadata": {
        "colab": {
          "base_uri": "https://localhost:8080/"
        },
        "id": "Q84FYVHm1xdK",
        "outputId": "5215fc08-a39a-4f50-e147-51ed05faf38c"
      },
      "execution_count": 23,
      "outputs": [
        {
          "output_type": "stream",
          "name": "stdout",
          "text": [
            "  iso_code continent     location       date  total_cases  new_cases  \\\n",
            "0      AFG      Asia  Afghanistan 2019-12-31          NaN        0.0   \n",
            "1      AFG      Asia  Afghanistan 2020-01-01          NaN        0.0   \n",
            "2      AFG      Asia  Afghanistan 2020-02-01          NaN        0.0   \n",
            "3      AFG      Asia  Afghanistan 2020-03-01          NaN        0.0   \n",
            "4      AFG      Asia  Afghanistan 2020-04-01          NaN        0.0   \n",
            "\n",
            "   new_cases_smoothed  total_deaths  new_deaths  new_deaths_smoothed  ...  \\\n",
            "0                 NaN           NaN         0.0                  NaN  ...   \n",
            "1                 NaN           NaN         0.0                  NaN  ...   \n",
            "2                 NaN           NaN         0.0                  NaN  ...   \n",
            "3                 NaN           NaN         0.0                  NaN  ...   \n",
            "4                 NaN           NaN         0.0                  NaN  ...   \n",
            "\n",
            "   extreme_poverty  cardiovasc_death_rate  diabetes_prevalence  \\\n",
            "0              NaN                597.029                 9.59   \n",
            "1              NaN                597.029                 9.59   \n",
            "2              NaN                597.029                 9.59   \n",
            "3              NaN                597.029                 9.59   \n",
            "4              NaN                597.029                 9.59   \n",
            "\n",
            "   female_smokers  male_smokers  handwashing_facilities  \\\n",
            "0             NaN           NaN                  37.746   \n",
            "1             NaN           NaN                  37.746   \n",
            "2             NaN           NaN                  37.746   \n",
            "3             NaN           NaN                  37.746   \n",
            "4             NaN           NaN                  37.746   \n",
            "\n",
            "   hospital_beds_per_thousand  life_expectancy  human_development_index  month  \n",
            "0                         0.5            64.83                    0.498     12  \n",
            "1                         0.5            64.83                    0.498      1  \n",
            "2                         0.5            64.83                    0.498      2  \n",
            "3                         0.5            64.83                    0.498      3  \n",
            "4                         0.5            64.83                    0.498      4  \n",
            "\n",
            "[5 rows x 50 columns]\n"
          ]
        }
      ]
    },
    {
      "cell_type": "code",
      "source": [
        "#7. Data Aggregation:\n",
        "# a. Find max value in all columns using groupby function on 'continent' column\n",
        "#Tip: use reset_index() after applying groupby\n",
        "# b. Store the result in a new dataframe named 'df_groupby'.\n",
        "#(Use df_groupby dataframe for all further analysis)\n"
      ],
      "metadata": {
        "id": "-7RSrCvQ2n1P"
      },
      "execution_count": 24,
      "outputs": []
    },
    {
      "cell_type": "code",
      "source": [
        "# a. Find max value in all columns using groupby function on 'continent'\n",
        "df_agg= df.copy()\n",
        "df_agg = df_agg.groupby(by='continent').max().reset_index()\n",
        "df_agg"
      ],
      "metadata": {
        "colab": {
          "base_uri": "https://localhost:8080/",
          "height": 417
        },
        "id": "NfmADwkS3Wag",
        "outputId": "29baffa6-add0-43e3-bf57-a3018262b498"
      },
      "execution_count": 25,
      "outputs": [
        {
          "output_type": "execute_result",
          "data": {
            "text/plain": [
              "       continent iso_code                      location      date  \\\n",
              "0         Africa      ZWE                      Zimbabwe  31/12/19   \n",
              "1           Asia      YEM                         Yemen  31/12/19   \n",
              "2         Europe      VAT                       Vatican  31/12/19   \n",
              "3  North America      VIR  United States Virgin Islands  31/12/19   \n",
              "4        Oceania      WLF             Wallis and Futuna  31/12/19   \n",
              "5  South America      VEN                     Venezuela  31/12/19   \n",
              "\n",
              "   total_cases  new_cases  new_cases_smoothed  total_deaths  new_deaths  \\\n",
              "0     752269.0    13944.0           12583.714       20314.0       572.0   \n",
              "1    8874290.0    97894.0           93198.571      130519.0      2003.0   \n",
              "2    1991233.0    86852.0           54868.571       52147.0      2004.0   \n",
              "3   11205486.0   184813.0          156419.143      247220.0      4928.0   \n",
              "4      27750.0     1384.0             551.714         907.0        59.0   \n",
              "5    5876464.0    69074.0           46393.000      166014.0      3935.0   \n",
              "\n",
              "   new_deaths_smoothed  ...  gdp_per_capita  extreme_poverty  \\\n",
              "0              297.429  ...       26382.287             77.6   \n",
              "1             1168.000  ...      116935.600             30.3   \n",
              "2             1101.000  ...       94277.965              5.7   \n",
              "3             2715.143  ...       54225.446             23.5   \n",
              "4               22.000  ...       44648.710             25.1   \n",
              "5             1096.714  ...       22767.037              7.1   \n",
              "\n",
              "   cardiovasc_death_rate  diabetes_prevalence  female_smokers  male_smokers  \\\n",
              "0                525.432                22.02             9.7          65.8   \n",
              "1                724.417                17.72            26.9          78.1   \n",
              "2                539.849                10.08            44.0          58.3   \n",
              "3                430.548                17.11            19.1          53.3   \n",
              "4                561.494                30.53            23.5          48.8   \n",
              "5                373.159                12.54            34.2          42.9   \n",
              "\n",
              "   handwashing_facilities  hospital_beds_per_thousand  life_expectancy  \\\n",
              "0                  89.827                        6.30            76.88   \n",
              "1                  98.999                       13.05            84.86   \n",
              "2                  97.719                       13.80            86.75   \n",
              "3                  90.650                        5.80            83.92   \n",
              "4                  82.502                        3.84            83.44   \n",
              "5                  80.635                        5.00            81.44   \n",
              "\n",
              "   human_development_index  \n",
              "0                    0.797  \n",
              "1                    0.933  \n",
              "2                    0.953  \n",
              "3                    0.926  \n",
              "4                    0.939  \n",
              "5                    0.843  \n",
              "\n",
              "[6 rows x 49 columns]"
            ],
            "text/html": [
              "\n",
              "  <div id=\"df-5cbfa6fe-dc31-4a5c-ae3c-89f567b4e5a5\">\n",
              "    <div class=\"colab-df-container\">\n",
              "      <div>\n",
              "<style scoped>\n",
              "    .dataframe tbody tr th:only-of-type {\n",
              "        vertical-align: middle;\n",
              "    }\n",
              "\n",
              "    .dataframe tbody tr th {\n",
              "        vertical-align: top;\n",
              "    }\n",
              "\n",
              "    .dataframe thead th {\n",
              "        text-align: right;\n",
              "    }\n",
              "</style>\n",
              "<table border=\"1\" class=\"dataframe\">\n",
              "  <thead>\n",
              "    <tr style=\"text-align: right;\">\n",
              "      <th></th>\n",
              "      <th>continent</th>\n",
              "      <th>iso_code</th>\n",
              "      <th>location</th>\n",
              "      <th>date</th>\n",
              "      <th>total_cases</th>\n",
              "      <th>new_cases</th>\n",
              "      <th>new_cases_smoothed</th>\n",
              "      <th>total_deaths</th>\n",
              "      <th>new_deaths</th>\n",
              "      <th>new_deaths_smoothed</th>\n",
              "      <th>...</th>\n",
              "      <th>gdp_per_capita</th>\n",
              "      <th>extreme_poverty</th>\n",
              "      <th>cardiovasc_death_rate</th>\n",
              "      <th>diabetes_prevalence</th>\n",
              "      <th>female_smokers</th>\n",
              "      <th>male_smokers</th>\n",
              "      <th>handwashing_facilities</th>\n",
              "      <th>hospital_beds_per_thousand</th>\n",
              "      <th>life_expectancy</th>\n",
              "      <th>human_development_index</th>\n",
              "    </tr>\n",
              "  </thead>\n",
              "  <tbody>\n",
              "    <tr>\n",
              "      <th>0</th>\n",
              "      <td>Africa</td>\n",
              "      <td>ZWE</td>\n",
              "      <td>Zimbabwe</td>\n",
              "      <td>31/12/19</td>\n",
              "      <td>752269.0</td>\n",
              "      <td>13944.0</td>\n",
              "      <td>12583.714</td>\n",
              "      <td>20314.0</td>\n",
              "      <td>572.0</td>\n",
              "      <td>297.429</td>\n",
              "      <td>...</td>\n",
              "      <td>26382.287</td>\n",
              "      <td>77.6</td>\n",
              "      <td>525.432</td>\n",
              "      <td>22.02</td>\n",
              "      <td>9.7</td>\n",
              "      <td>65.8</td>\n",
              "      <td>89.827</td>\n",
              "      <td>6.30</td>\n",
              "      <td>76.88</td>\n",
              "      <td>0.797</td>\n",
              "    </tr>\n",
              "    <tr>\n",
              "      <th>1</th>\n",
              "      <td>Asia</td>\n",
              "      <td>YEM</td>\n",
              "      <td>Yemen</td>\n",
              "      <td>31/12/19</td>\n",
              "      <td>8874290.0</td>\n",
              "      <td>97894.0</td>\n",
              "      <td>93198.571</td>\n",
              "      <td>130519.0</td>\n",
              "      <td>2003.0</td>\n",
              "      <td>1168.000</td>\n",
              "      <td>...</td>\n",
              "      <td>116935.600</td>\n",
              "      <td>30.3</td>\n",
              "      <td>724.417</td>\n",
              "      <td>17.72</td>\n",
              "      <td>26.9</td>\n",
              "      <td>78.1</td>\n",
              "      <td>98.999</td>\n",
              "      <td>13.05</td>\n",
              "      <td>84.86</td>\n",
              "      <td>0.933</td>\n",
              "    </tr>\n",
              "    <tr>\n",
              "      <th>2</th>\n",
              "      <td>Europe</td>\n",
              "      <td>VAT</td>\n",
              "      <td>Vatican</td>\n",
              "      <td>31/12/19</td>\n",
              "      <td>1991233.0</td>\n",
              "      <td>86852.0</td>\n",
              "      <td>54868.571</td>\n",
              "      <td>52147.0</td>\n",
              "      <td>2004.0</td>\n",
              "      <td>1101.000</td>\n",
              "      <td>...</td>\n",
              "      <td>94277.965</td>\n",
              "      <td>5.7</td>\n",
              "      <td>539.849</td>\n",
              "      <td>10.08</td>\n",
              "      <td>44.0</td>\n",
              "      <td>58.3</td>\n",
              "      <td>97.719</td>\n",
              "      <td>13.80</td>\n",
              "      <td>86.75</td>\n",
              "      <td>0.953</td>\n",
              "    </tr>\n",
              "    <tr>\n",
              "      <th>3</th>\n",
              "      <td>North America</td>\n",
              "      <td>VIR</td>\n",
              "      <td>United States Virgin Islands</td>\n",
              "      <td>31/12/19</td>\n",
              "      <td>11205486.0</td>\n",
              "      <td>184813.0</td>\n",
              "      <td>156419.143</td>\n",
              "      <td>247220.0</td>\n",
              "      <td>4928.0</td>\n",
              "      <td>2715.143</td>\n",
              "      <td>...</td>\n",
              "      <td>54225.446</td>\n",
              "      <td>23.5</td>\n",
              "      <td>430.548</td>\n",
              "      <td>17.11</td>\n",
              "      <td>19.1</td>\n",
              "      <td>53.3</td>\n",
              "      <td>90.650</td>\n",
              "      <td>5.80</td>\n",
              "      <td>83.92</td>\n",
              "      <td>0.926</td>\n",
              "    </tr>\n",
              "    <tr>\n",
              "      <th>4</th>\n",
              "      <td>Oceania</td>\n",
              "      <td>WLF</td>\n",
              "      <td>Wallis and Futuna</td>\n",
              "      <td>31/12/19</td>\n",
              "      <td>27750.0</td>\n",
              "      <td>1384.0</td>\n",
              "      <td>551.714</td>\n",
              "      <td>907.0</td>\n",
              "      <td>59.0</td>\n",
              "      <td>22.000</td>\n",
              "      <td>...</td>\n",
              "      <td>44648.710</td>\n",
              "      <td>25.1</td>\n",
              "      <td>561.494</td>\n",
              "      <td>30.53</td>\n",
              "      <td>23.5</td>\n",
              "      <td>48.8</td>\n",
              "      <td>82.502</td>\n",
              "      <td>3.84</td>\n",
              "      <td>83.44</td>\n",
              "      <td>0.939</td>\n",
              "    </tr>\n",
              "    <tr>\n",
              "      <th>5</th>\n",
              "      <td>South America</td>\n",
              "      <td>VEN</td>\n",
              "      <td>Venezuela</td>\n",
              "      <td>31/12/19</td>\n",
              "      <td>5876464.0</td>\n",
              "      <td>69074.0</td>\n",
              "      <td>46393.000</td>\n",
              "      <td>166014.0</td>\n",
              "      <td>3935.0</td>\n",
              "      <td>1096.714</td>\n",
              "      <td>...</td>\n",
              "      <td>22767.037</td>\n",
              "      <td>7.1</td>\n",
              "      <td>373.159</td>\n",
              "      <td>12.54</td>\n",
              "      <td>34.2</td>\n",
              "      <td>42.9</td>\n",
              "      <td>80.635</td>\n",
              "      <td>5.00</td>\n",
              "      <td>81.44</td>\n",
              "      <td>0.843</td>\n",
              "    </tr>\n",
              "  </tbody>\n",
              "</table>\n",
              "<p>6 rows × 49 columns</p>\n",
              "</div>\n",
              "      <button class=\"colab-df-convert\" onclick=\"convertToInteractive('df-5cbfa6fe-dc31-4a5c-ae3c-89f567b4e5a5')\"\n",
              "              title=\"Convert this dataframe to an interactive table.\"\n",
              "              style=\"display:none;\">\n",
              "        \n",
              "  <svg xmlns=\"http://www.w3.org/2000/svg\" height=\"24px\"viewBox=\"0 0 24 24\"\n",
              "       width=\"24px\">\n",
              "    <path d=\"M0 0h24v24H0V0z\" fill=\"none\"/>\n",
              "    <path d=\"M18.56 5.44l.94 2.06.94-2.06 2.06-.94-2.06-.94-.94-2.06-.94 2.06-2.06.94zm-11 1L8.5 8.5l.94-2.06 2.06-.94-2.06-.94L8.5 2.5l-.94 2.06-2.06.94zm10 10l.94 2.06.94-2.06 2.06-.94-2.06-.94-.94-2.06-.94 2.06-2.06.94z\"/><path d=\"M17.41 7.96l-1.37-1.37c-.4-.4-.92-.59-1.43-.59-.52 0-1.04.2-1.43.59L10.3 9.45l-7.72 7.72c-.78.78-.78 2.05 0 2.83L4 21.41c.39.39.9.59 1.41.59.51 0 1.02-.2 1.41-.59l7.78-7.78 2.81-2.81c.8-.78.8-2.07 0-2.86zM5.41 20L4 18.59l7.72-7.72 1.47 1.35L5.41 20z\"/>\n",
              "  </svg>\n",
              "      </button>\n",
              "      \n",
              "  <style>\n",
              "    .colab-df-container {\n",
              "      display:flex;\n",
              "      flex-wrap:wrap;\n",
              "      gap: 12px;\n",
              "    }\n",
              "\n",
              "    .colab-df-convert {\n",
              "      background-color: #E8F0FE;\n",
              "      border: none;\n",
              "      border-radius: 50%;\n",
              "      cursor: pointer;\n",
              "      display: none;\n",
              "      fill: #1967D2;\n",
              "      height: 32px;\n",
              "      padding: 0 0 0 0;\n",
              "      width: 32px;\n",
              "    }\n",
              "\n",
              "    .colab-df-convert:hover {\n",
              "      background-color: #E2EBFA;\n",
              "      box-shadow: 0px 1px 2px rgba(60, 64, 67, 0.3), 0px 1px 3px 1px rgba(60, 64, 67, 0.15);\n",
              "      fill: #174EA6;\n",
              "    }\n",
              "\n",
              "    [theme=dark] .colab-df-convert {\n",
              "      background-color: #3B4455;\n",
              "      fill: #D2E3FC;\n",
              "    }\n",
              "\n",
              "    [theme=dark] .colab-df-convert:hover {\n",
              "      background-color: #434B5C;\n",
              "      box-shadow: 0px 1px 3px 1px rgba(0, 0, 0, 0.15);\n",
              "      filter: drop-shadow(0px 1px 2px rgba(0, 0, 0, 0.3));\n",
              "      fill: #FFFFFF;\n",
              "    }\n",
              "  </style>\n",
              "\n",
              "      <script>\n",
              "        const buttonEl =\n",
              "          document.querySelector('#df-5cbfa6fe-dc31-4a5c-ae3c-89f567b4e5a5 button.colab-df-convert');\n",
              "        buttonEl.style.display =\n",
              "          google.colab.kernel.accessAllowed ? 'block' : 'none';\n",
              "\n",
              "        async function convertToInteractive(key) {\n",
              "          const element = document.querySelector('#df-5cbfa6fe-dc31-4a5c-ae3c-89f567b4e5a5');\n",
              "          const dataTable =\n",
              "            await google.colab.kernel.invokeFunction('convertToInteractive',\n",
              "                                                     [key], {});\n",
              "          if (!dataTable) return;\n",
              "\n",
              "          const docLinkHtml = 'Like what you see? Visit the ' +\n",
              "            '<a target=\"_blank\" href=https://colab.research.google.com/notebooks/data_table.ipynb>data table notebook</a>'\n",
              "            + ' to learn more about interactive tables.';\n",
              "          element.innerHTML = '';\n",
              "          dataTable['output_type'] = 'display_data';\n",
              "          await google.colab.output.renderOutput(dataTable, element);\n",
              "          const docLink = document.createElement('div');\n",
              "          docLink.innerHTML = docLinkHtml;\n",
              "          element.appendChild(docLink);\n",
              "        }\n",
              "      </script>\n",
              "    </div>\n",
              "  </div>\n",
              "  "
            ]
          },
          "metadata": {},
          "execution_count": 25
        }
      ]
    },
    {
      "cell_type": "code",
      "source": [
        "# b. Store the result in a new dataframe named 'df_groupby'.(Use df_groupby dataframe for all further analysis)\n",
        "df_groupby = df.groupby(by='continent').max().reset_index()\n",
        "df_groupby"
      ],
      "metadata": {
        "colab": {
          "base_uri": "https://localhost:8080/",
          "height": 417
        },
        "id": "O1jbHeHB3Xxp",
        "outputId": "6b2a27ce-baef-48b1-ce51-b0448f2f2593"
      },
      "execution_count": 26,
      "outputs": [
        {
          "output_type": "execute_result",
          "data": {
            "text/plain": [
              "       continent iso_code                      location      date  \\\n",
              "0         Africa      ZWE                      Zimbabwe  31/12/19   \n",
              "1           Asia      YEM                         Yemen  31/12/19   \n",
              "2         Europe      VAT                       Vatican  31/12/19   \n",
              "3  North America      VIR  United States Virgin Islands  31/12/19   \n",
              "4        Oceania      WLF             Wallis and Futuna  31/12/19   \n",
              "5  South America      VEN                     Venezuela  31/12/19   \n",
              "\n",
              "   total_cases  new_cases  new_cases_smoothed  total_deaths  new_deaths  \\\n",
              "0     752269.0    13944.0           12583.714       20314.0       572.0   \n",
              "1    8874290.0    97894.0           93198.571      130519.0      2003.0   \n",
              "2    1991233.0    86852.0           54868.571       52147.0      2004.0   \n",
              "3   11205486.0   184813.0          156419.143      247220.0      4928.0   \n",
              "4      27750.0     1384.0             551.714         907.0        59.0   \n",
              "5    5876464.0    69074.0           46393.000      166014.0      3935.0   \n",
              "\n",
              "   new_deaths_smoothed  ...  gdp_per_capita  extreme_poverty  \\\n",
              "0              297.429  ...       26382.287             77.6   \n",
              "1             1168.000  ...      116935.600             30.3   \n",
              "2             1101.000  ...       94277.965              5.7   \n",
              "3             2715.143  ...       54225.446             23.5   \n",
              "4               22.000  ...       44648.710             25.1   \n",
              "5             1096.714  ...       22767.037              7.1   \n",
              "\n",
              "   cardiovasc_death_rate  diabetes_prevalence  female_smokers  male_smokers  \\\n",
              "0                525.432                22.02             9.7          65.8   \n",
              "1                724.417                17.72            26.9          78.1   \n",
              "2                539.849                10.08            44.0          58.3   \n",
              "3                430.548                17.11            19.1          53.3   \n",
              "4                561.494                30.53            23.5          48.8   \n",
              "5                373.159                12.54            34.2          42.9   \n",
              "\n",
              "   handwashing_facilities  hospital_beds_per_thousand  life_expectancy  \\\n",
              "0                  89.827                        6.30            76.88   \n",
              "1                  98.999                       13.05            84.86   \n",
              "2                  97.719                       13.80            86.75   \n",
              "3                  90.650                        5.80            83.92   \n",
              "4                  82.502                        3.84            83.44   \n",
              "5                  80.635                        5.00            81.44   \n",
              "\n",
              "   human_development_index  \n",
              "0                    0.797  \n",
              "1                    0.933  \n",
              "2                    0.953  \n",
              "3                    0.926  \n",
              "4                    0.939  \n",
              "5                    0.843  \n",
              "\n",
              "[6 rows x 49 columns]"
            ],
            "text/html": [
              "\n",
              "  <div id=\"df-9151db5d-f701-4800-baa0-8797368d411c\">\n",
              "    <div class=\"colab-df-container\">\n",
              "      <div>\n",
              "<style scoped>\n",
              "    .dataframe tbody tr th:only-of-type {\n",
              "        vertical-align: middle;\n",
              "    }\n",
              "\n",
              "    .dataframe tbody tr th {\n",
              "        vertical-align: top;\n",
              "    }\n",
              "\n",
              "    .dataframe thead th {\n",
              "        text-align: right;\n",
              "    }\n",
              "</style>\n",
              "<table border=\"1\" class=\"dataframe\">\n",
              "  <thead>\n",
              "    <tr style=\"text-align: right;\">\n",
              "      <th></th>\n",
              "      <th>continent</th>\n",
              "      <th>iso_code</th>\n",
              "      <th>location</th>\n",
              "      <th>date</th>\n",
              "      <th>total_cases</th>\n",
              "      <th>new_cases</th>\n",
              "      <th>new_cases_smoothed</th>\n",
              "      <th>total_deaths</th>\n",
              "      <th>new_deaths</th>\n",
              "      <th>new_deaths_smoothed</th>\n",
              "      <th>...</th>\n",
              "      <th>gdp_per_capita</th>\n",
              "      <th>extreme_poverty</th>\n",
              "      <th>cardiovasc_death_rate</th>\n",
              "      <th>diabetes_prevalence</th>\n",
              "      <th>female_smokers</th>\n",
              "      <th>male_smokers</th>\n",
              "      <th>handwashing_facilities</th>\n",
              "      <th>hospital_beds_per_thousand</th>\n",
              "      <th>life_expectancy</th>\n",
              "      <th>human_development_index</th>\n",
              "    </tr>\n",
              "  </thead>\n",
              "  <tbody>\n",
              "    <tr>\n",
              "      <th>0</th>\n",
              "      <td>Africa</td>\n",
              "      <td>ZWE</td>\n",
              "      <td>Zimbabwe</td>\n",
              "      <td>31/12/19</td>\n",
              "      <td>752269.0</td>\n",
              "      <td>13944.0</td>\n",
              "      <td>12583.714</td>\n",
              "      <td>20314.0</td>\n",
              "      <td>572.0</td>\n",
              "      <td>297.429</td>\n",
              "      <td>...</td>\n",
              "      <td>26382.287</td>\n",
              "      <td>77.6</td>\n",
              "      <td>525.432</td>\n",
              "      <td>22.02</td>\n",
              "      <td>9.7</td>\n",
              "      <td>65.8</td>\n",
              "      <td>89.827</td>\n",
              "      <td>6.30</td>\n",
              "      <td>76.88</td>\n",
              "      <td>0.797</td>\n",
              "    </tr>\n",
              "    <tr>\n",
              "      <th>1</th>\n",
              "      <td>Asia</td>\n",
              "      <td>YEM</td>\n",
              "      <td>Yemen</td>\n",
              "      <td>31/12/19</td>\n",
              "      <td>8874290.0</td>\n",
              "      <td>97894.0</td>\n",
              "      <td>93198.571</td>\n",
              "      <td>130519.0</td>\n",
              "      <td>2003.0</td>\n",
              "      <td>1168.000</td>\n",
              "      <td>...</td>\n",
              "      <td>116935.600</td>\n",
              "      <td>30.3</td>\n",
              "      <td>724.417</td>\n",
              "      <td>17.72</td>\n",
              "      <td>26.9</td>\n",
              "      <td>78.1</td>\n",
              "      <td>98.999</td>\n",
              "      <td>13.05</td>\n",
              "      <td>84.86</td>\n",
              "      <td>0.933</td>\n",
              "    </tr>\n",
              "    <tr>\n",
              "      <th>2</th>\n",
              "      <td>Europe</td>\n",
              "      <td>VAT</td>\n",
              "      <td>Vatican</td>\n",
              "      <td>31/12/19</td>\n",
              "      <td>1991233.0</td>\n",
              "      <td>86852.0</td>\n",
              "      <td>54868.571</td>\n",
              "      <td>52147.0</td>\n",
              "      <td>2004.0</td>\n",
              "      <td>1101.000</td>\n",
              "      <td>...</td>\n",
              "      <td>94277.965</td>\n",
              "      <td>5.7</td>\n",
              "      <td>539.849</td>\n",
              "      <td>10.08</td>\n",
              "      <td>44.0</td>\n",
              "      <td>58.3</td>\n",
              "      <td>97.719</td>\n",
              "      <td>13.80</td>\n",
              "      <td>86.75</td>\n",
              "      <td>0.953</td>\n",
              "    </tr>\n",
              "    <tr>\n",
              "      <th>3</th>\n",
              "      <td>North America</td>\n",
              "      <td>VIR</td>\n",
              "      <td>United States Virgin Islands</td>\n",
              "      <td>31/12/19</td>\n",
              "      <td>11205486.0</td>\n",
              "      <td>184813.0</td>\n",
              "      <td>156419.143</td>\n",
              "      <td>247220.0</td>\n",
              "      <td>4928.0</td>\n",
              "      <td>2715.143</td>\n",
              "      <td>...</td>\n",
              "      <td>54225.446</td>\n",
              "      <td>23.5</td>\n",
              "      <td>430.548</td>\n",
              "      <td>17.11</td>\n",
              "      <td>19.1</td>\n",
              "      <td>53.3</td>\n",
              "      <td>90.650</td>\n",
              "      <td>5.80</td>\n",
              "      <td>83.92</td>\n",
              "      <td>0.926</td>\n",
              "    </tr>\n",
              "    <tr>\n",
              "      <th>4</th>\n",
              "      <td>Oceania</td>\n",
              "      <td>WLF</td>\n",
              "      <td>Wallis and Futuna</td>\n",
              "      <td>31/12/19</td>\n",
              "      <td>27750.0</td>\n",
              "      <td>1384.0</td>\n",
              "      <td>551.714</td>\n",
              "      <td>907.0</td>\n",
              "      <td>59.0</td>\n",
              "      <td>22.000</td>\n",
              "      <td>...</td>\n",
              "      <td>44648.710</td>\n",
              "      <td>25.1</td>\n",
              "      <td>561.494</td>\n",
              "      <td>30.53</td>\n",
              "      <td>23.5</td>\n",
              "      <td>48.8</td>\n",
              "      <td>82.502</td>\n",
              "      <td>3.84</td>\n",
              "      <td>83.44</td>\n",
              "      <td>0.939</td>\n",
              "    </tr>\n",
              "    <tr>\n",
              "      <th>5</th>\n",
              "      <td>South America</td>\n",
              "      <td>VEN</td>\n",
              "      <td>Venezuela</td>\n",
              "      <td>31/12/19</td>\n",
              "      <td>5876464.0</td>\n",
              "      <td>69074.0</td>\n",
              "      <td>46393.000</td>\n",
              "      <td>166014.0</td>\n",
              "      <td>3935.0</td>\n",
              "      <td>1096.714</td>\n",
              "      <td>...</td>\n",
              "      <td>22767.037</td>\n",
              "      <td>7.1</td>\n",
              "      <td>373.159</td>\n",
              "      <td>12.54</td>\n",
              "      <td>34.2</td>\n",
              "      <td>42.9</td>\n",
              "      <td>80.635</td>\n",
              "      <td>5.00</td>\n",
              "      <td>81.44</td>\n",
              "      <td>0.843</td>\n",
              "    </tr>\n",
              "  </tbody>\n",
              "</table>\n",
              "<p>6 rows × 49 columns</p>\n",
              "</div>\n",
              "      <button class=\"colab-df-convert\" onclick=\"convertToInteractive('df-9151db5d-f701-4800-baa0-8797368d411c')\"\n",
              "              title=\"Convert this dataframe to an interactive table.\"\n",
              "              style=\"display:none;\">\n",
              "        \n",
              "  <svg xmlns=\"http://www.w3.org/2000/svg\" height=\"24px\"viewBox=\"0 0 24 24\"\n",
              "       width=\"24px\">\n",
              "    <path d=\"M0 0h24v24H0V0z\" fill=\"none\"/>\n",
              "    <path d=\"M18.56 5.44l.94 2.06.94-2.06 2.06-.94-2.06-.94-.94-2.06-.94 2.06-2.06.94zm-11 1L8.5 8.5l.94-2.06 2.06-.94-2.06-.94L8.5 2.5l-.94 2.06-2.06.94zm10 10l.94 2.06.94-2.06 2.06-.94-2.06-.94-.94-2.06-.94 2.06-2.06.94z\"/><path d=\"M17.41 7.96l-1.37-1.37c-.4-.4-.92-.59-1.43-.59-.52 0-1.04.2-1.43.59L10.3 9.45l-7.72 7.72c-.78.78-.78 2.05 0 2.83L4 21.41c.39.39.9.59 1.41.59.51 0 1.02-.2 1.41-.59l7.78-7.78 2.81-2.81c.8-.78.8-2.07 0-2.86zM5.41 20L4 18.59l7.72-7.72 1.47 1.35L5.41 20z\"/>\n",
              "  </svg>\n",
              "      </button>\n",
              "      \n",
              "  <style>\n",
              "    .colab-df-container {\n",
              "      display:flex;\n",
              "      flex-wrap:wrap;\n",
              "      gap: 12px;\n",
              "    }\n",
              "\n",
              "    .colab-df-convert {\n",
              "      background-color: #E8F0FE;\n",
              "      border: none;\n",
              "      border-radius: 50%;\n",
              "      cursor: pointer;\n",
              "      display: none;\n",
              "      fill: #1967D2;\n",
              "      height: 32px;\n",
              "      padding: 0 0 0 0;\n",
              "      width: 32px;\n",
              "    }\n",
              "\n",
              "    .colab-df-convert:hover {\n",
              "      background-color: #E2EBFA;\n",
              "      box-shadow: 0px 1px 2px rgba(60, 64, 67, 0.3), 0px 1px 3px 1px rgba(60, 64, 67, 0.15);\n",
              "      fill: #174EA6;\n",
              "    }\n",
              "\n",
              "    [theme=dark] .colab-df-convert {\n",
              "      background-color: #3B4455;\n",
              "      fill: #D2E3FC;\n",
              "    }\n",
              "\n",
              "    [theme=dark] .colab-df-convert:hover {\n",
              "      background-color: #434B5C;\n",
              "      box-shadow: 0px 1px 3px 1px rgba(0, 0, 0, 0.15);\n",
              "      filter: drop-shadow(0px 1px 2px rgba(0, 0, 0, 0.3));\n",
              "      fill: #FFFFFF;\n",
              "    }\n",
              "  </style>\n",
              "\n",
              "      <script>\n",
              "        const buttonEl =\n",
              "          document.querySelector('#df-9151db5d-f701-4800-baa0-8797368d411c button.colab-df-convert');\n",
              "        buttonEl.style.display =\n",
              "          google.colab.kernel.accessAllowed ? 'block' : 'none';\n",
              "\n",
              "        async function convertToInteractive(key) {\n",
              "          const element = document.querySelector('#df-9151db5d-f701-4800-baa0-8797368d411c');\n",
              "          const dataTable =\n",
              "            await google.colab.kernel.invokeFunction('convertToInteractive',\n",
              "                                                     [key], {});\n",
              "          if (!dataTable) return;\n",
              "\n",
              "          const docLinkHtml = 'Like what you see? Visit the ' +\n",
              "            '<a target=\"_blank\" href=https://colab.research.google.com/notebooks/data_table.ipynb>data table notebook</a>'\n",
              "            + ' to learn more about interactive tables.';\n",
              "          element.innerHTML = '';\n",
              "          dataTable['output_type'] = 'display_data';\n",
              "          await google.colab.output.renderOutput(dataTable, element);\n",
              "          const docLink = document.createElement('div');\n",
              "          docLink.innerHTML = docLinkHtml;\n",
              "          element.appendChild(docLink);\n",
              "        }\n",
              "      </script>\n",
              "    </div>\n",
              "  </div>\n",
              "  "
            ]
          },
          "metadata": {},
          "execution_count": 26
        }
      ]
    },
    {
      "cell_type": "code",
      "source": [
        "#8. Feature Engineering :\n",
        "# a. Create a new feature 'total_deaths_to_total_cases' by ratio of 'total_deaths' column to 'total_cases'\n"
      ],
      "metadata": {
        "id": "eK_DonEZ3bxM"
      },
      "execution_count": 27,
      "outputs": []
    },
    {
      "cell_type": "code",
      "source": [
        "# a. Create a new feature 'total_deaths_to_total_cases' by ratio of'total_deaths' column to 'total_cases'\n",
        "df_new=df.copy()\n",
        "df_new['total_deaths_to_total_cases']=(df_new['total_deaths']/df_new['total_cases'])\n",
        "df_new.head()"
      ],
      "metadata": {
        "colab": {
          "base_uri": "https://localhost:8080/",
          "height": 299
        },
        "id": "Um1ITJwF3u8p",
        "outputId": "0c706039-5955-41a6-8301-62d7101ed57c"
      },
      "execution_count": 28,
      "outputs": [
        {
          "output_type": "execute_result",
          "data": {
            "text/plain": [
              "  iso_code continent     location      date  total_cases  new_cases  \\\n",
              "0      AFG      Asia  Afghanistan  31/12/19          NaN        0.0   \n",
              "1      AFG      Asia  Afghanistan  01/01/20          NaN        0.0   \n",
              "2      AFG      Asia  Afghanistan  02/01/20          NaN        0.0   \n",
              "3      AFG      Asia  Afghanistan  03/01/20          NaN        0.0   \n",
              "4      AFG      Asia  Afghanistan  04/01/20          NaN        0.0   \n",
              "\n",
              "   new_cases_smoothed  total_deaths  new_deaths  new_deaths_smoothed  ...  \\\n",
              "0                 NaN           NaN         0.0                  NaN  ...   \n",
              "1                 NaN           NaN         0.0                  NaN  ...   \n",
              "2                 NaN           NaN         0.0                  NaN  ...   \n",
              "3                 NaN           NaN         0.0                  NaN  ...   \n",
              "4                 NaN           NaN         0.0                  NaN  ...   \n",
              "\n",
              "   extreme_poverty  cardiovasc_death_rate  diabetes_prevalence  \\\n",
              "0              NaN                597.029                 9.59   \n",
              "1              NaN                597.029                 9.59   \n",
              "2              NaN                597.029                 9.59   \n",
              "3              NaN                597.029                 9.59   \n",
              "4              NaN                597.029                 9.59   \n",
              "\n",
              "   female_smokers  male_smokers  handwashing_facilities  \\\n",
              "0             NaN           NaN                  37.746   \n",
              "1             NaN           NaN                  37.746   \n",
              "2             NaN           NaN                  37.746   \n",
              "3             NaN           NaN                  37.746   \n",
              "4             NaN           NaN                  37.746   \n",
              "\n",
              "   hospital_beds_per_thousand  life_expectancy  human_development_index  \\\n",
              "0                         0.5            64.83                    0.498   \n",
              "1                         0.5            64.83                    0.498   \n",
              "2                         0.5            64.83                    0.498   \n",
              "3                         0.5            64.83                    0.498   \n",
              "4                         0.5            64.83                    0.498   \n",
              "\n",
              "   total_deaths_to_total_cases  \n",
              "0                          NaN  \n",
              "1                          NaN  \n",
              "2                          NaN  \n",
              "3                          NaN  \n",
              "4                          NaN  \n",
              "\n",
              "[5 rows x 50 columns]"
            ],
            "text/html": [
              "\n",
              "  <div id=\"df-91c17dda-47a8-43c1-895f-c432d543824d\">\n",
              "    <div class=\"colab-df-container\">\n",
              "      <div>\n",
              "<style scoped>\n",
              "    .dataframe tbody tr th:only-of-type {\n",
              "        vertical-align: middle;\n",
              "    }\n",
              "\n",
              "    .dataframe tbody tr th {\n",
              "        vertical-align: top;\n",
              "    }\n",
              "\n",
              "    .dataframe thead th {\n",
              "        text-align: right;\n",
              "    }\n",
              "</style>\n",
              "<table border=\"1\" class=\"dataframe\">\n",
              "  <thead>\n",
              "    <tr style=\"text-align: right;\">\n",
              "      <th></th>\n",
              "      <th>iso_code</th>\n",
              "      <th>continent</th>\n",
              "      <th>location</th>\n",
              "      <th>date</th>\n",
              "      <th>total_cases</th>\n",
              "      <th>new_cases</th>\n",
              "      <th>new_cases_smoothed</th>\n",
              "      <th>total_deaths</th>\n",
              "      <th>new_deaths</th>\n",
              "      <th>new_deaths_smoothed</th>\n",
              "      <th>...</th>\n",
              "      <th>extreme_poverty</th>\n",
              "      <th>cardiovasc_death_rate</th>\n",
              "      <th>diabetes_prevalence</th>\n",
              "      <th>female_smokers</th>\n",
              "      <th>male_smokers</th>\n",
              "      <th>handwashing_facilities</th>\n",
              "      <th>hospital_beds_per_thousand</th>\n",
              "      <th>life_expectancy</th>\n",
              "      <th>human_development_index</th>\n",
              "      <th>total_deaths_to_total_cases</th>\n",
              "    </tr>\n",
              "  </thead>\n",
              "  <tbody>\n",
              "    <tr>\n",
              "      <th>0</th>\n",
              "      <td>AFG</td>\n",
              "      <td>Asia</td>\n",
              "      <td>Afghanistan</td>\n",
              "      <td>31/12/19</td>\n",
              "      <td>NaN</td>\n",
              "      <td>0.0</td>\n",
              "      <td>NaN</td>\n",
              "      <td>NaN</td>\n",
              "      <td>0.0</td>\n",
              "      <td>NaN</td>\n",
              "      <td>...</td>\n",
              "      <td>NaN</td>\n",
              "      <td>597.029</td>\n",
              "      <td>9.59</td>\n",
              "      <td>NaN</td>\n",
              "      <td>NaN</td>\n",
              "      <td>37.746</td>\n",
              "      <td>0.5</td>\n",
              "      <td>64.83</td>\n",
              "      <td>0.498</td>\n",
              "      <td>NaN</td>\n",
              "    </tr>\n",
              "    <tr>\n",
              "      <th>1</th>\n",
              "      <td>AFG</td>\n",
              "      <td>Asia</td>\n",
              "      <td>Afghanistan</td>\n",
              "      <td>01/01/20</td>\n",
              "      <td>NaN</td>\n",
              "      <td>0.0</td>\n",
              "      <td>NaN</td>\n",
              "      <td>NaN</td>\n",
              "      <td>0.0</td>\n",
              "      <td>NaN</td>\n",
              "      <td>...</td>\n",
              "      <td>NaN</td>\n",
              "      <td>597.029</td>\n",
              "      <td>9.59</td>\n",
              "      <td>NaN</td>\n",
              "      <td>NaN</td>\n",
              "      <td>37.746</td>\n",
              "      <td>0.5</td>\n",
              "      <td>64.83</td>\n",
              "      <td>0.498</td>\n",
              "      <td>NaN</td>\n",
              "    </tr>\n",
              "    <tr>\n",
              "      <th>2</th>\n",
              "      <td>AFG</td>\n",
              "      <td>Asia</td>\n",
              "      <td>Afghanistan</td>\n",
              "      <td>02/01/20</td>\n",
              "      <td>NaN</td>\n",
              "      <td>0.0</td>\n",
              "      <td>NaN</td>\n",
              "      <td>NaN</td>\n",
              "      <td>0.0</td>\n",
              "      <td>NaN</td>\n",
              "      <td>...</td>\n",
              "      <td>NaN</td>\n",
              "      <td>597.029</td>\n",
              "      <td>9.59</td>\n",
              "      <td>NaN</td>\n",
              "      <td>NaN</td>\n",
              "      <td>37.746</td>\n",
              "      <td>0.5</td>\n",
              "      <td>64.83</td>\n",
              "      <td>0.498</td>\n",
              "      <td>NaN</td>\n",
              "    </tr>\n",
              "    <tr>\n",
              "      <th>3</th>\n",
              "      <td>AFG</td>\n",
              "      <td>Asia</td>\n",
              "      <td>Afghanistan</td>\n",
              "      <td>03/01/20</td>\n",
              "      <td>NaN</td>\n",
              "      <td>0.0</td>\n",
              "      <td>NaN</td>\n",
              "      <td>NaN</td>\n",
              "      <td>0.0</td>\n",
              "      <td>NaN</td>\n",
              "      <td>...</td>\n",
              "      <td>NaN</td>\n",
              "      <td>597.029</td>\n",
              "      <td>9.59</td>\n",
              "      <td>NaN</td>\n",
              "      <td>NaN</td>\n",
              "      <td>37.746</td>\n",
              "      <td>0.5</td>\n",
              "      <td>64.83</td>\n",
              "      <td>0.498</td>\n",
              "      <td>NaN</td>\n",
              "    </tr>\n",
              "    <tr>\n",
              "      <th>4</th>\n",
              "      <td>AFG</td>\n",
              "      <td>Asia</td>\n",
              "      <td>Afghanistan</td>\n",
              "      <td>04/01/20</td>\n",
              "      <td>NaN</td>\n",
              "      <td>0.0</td>\n",
              "      <td>NaN</td>\n",
              "      <td>NaN</td>\n",
              "      <td>0.0</td>\n",
              "      <td>NaN</td>\n",
              "      <td>...</td>\n",
              "      <td>NaN</td>\n",
              "      <td>597.029</td>\n",
              "      <td>9.59</td>\n",
              "      <td>NaN</td>\n",
              "      <td>NaN</td>\n",
              "      <td>37.746</td>\n",
              "      <td>0.5</td>\n",
              "      <td>64.83</td>\n",
              "      <td>0.498</td>\n",
              "      <td>NaN</td>\n",
              "    </tr>\n",
              "  </tbody>\n",
              "</table>\n",
              "<p>5 rows × 50 columns</p>\n",
              "</div>\n",
              "      <button class=\"colab-df-convert\" onclick=\"convertToInteractive('df-91c17dda-47a8-43c1-895f-c432d543824d')\"\n",
              "              title=\"Convert this dataframe to an interactive table.\"\n",
              "              style=\"display:none;\">\n",
              "        \n",
              "  <svg xmlns=\"http://www.w3.org/2000/svg\" height=\"24px\"viewBox=\"0 0 24 24\"\n",
              "       width=\"24px\">\n",
              "    <path d=\"M0 0h24v24H0V0z\" fill=\"none\"/>\n",
              "    <path d=\"M18.56 5.44l.94 2.06.94-2.06 2.06-.94-2.06-.94-.94-2.06-.94 2.06-2.06.94zm-11 1L8.5 8.5l.94-2.06 2.06-.94-2.06-.94L8.5 2.5l-.94 2.06-2.06.94zm10 10l.94 2.06.94-2.06 2.06-.94-2.06-.94-.94-2.06-.94 2.06-2.06.94z\"/><path d=\"M17.41 7.96l-1.37-1.37c-.4-.4-.92-.59-1.43-.59-.52 0-1.04.2-1.43.59L10.3 9.45l-7.72 7.72c-.78.78-.78 2.05 0 2.83L4 21.41c.39.39.9.59 1.41.59.51 0 1.02-.2 1.41-.59l7.78-7.78 2.81-2.81c.8-.78.8-2.07 0-2.86zM5.41 20L4 18.59l7.72-7.72 1.47 1.35L5.41 20z\"/>\n",
              "  </svg>\n",
              "      </button>\n",
              "      \n",
              "  <style>\n",
              "    .colab-df-container {\n",
              "      display:flex;\n",
              "      flex-wrap:wrap;\n",
              "      gap: 12px;\n",
              "    }\n",
              "\n",
              "    .colab-df-convert {\n",
              "      background-color: #E8F0FE;\n",
              "      border: none;\n",
              "      border-radius: 50%;\n",
              "      cursor: pointer;\n",
              "      display: none;\n",
              "      fill: #1967D2;\n",
              "      height: 32px;\n",
              "      padding: 0 0 0 0;\n",
              "      width: 32px;\n",
              "    }\n",
              "\n",
              "    .colab-df-convert:hover {\n",
              "      background-color: #E2EBFA;\n",
              "      box-shadow: 0px 1px 2px rgba(60, 64, 67, 0.3), 0px 1px 3px 1px rgba(60, 64, 67, 0.15);\n",
              "      fill: #174EA6;\n",
              "    }\n",
              "\n",
              "    [theme=dark] .colab-df-convert {\n",
              "      background-color: #3B4455;\n",
              "      fill: #D2E3FC;\n",
              "    }\n",
              "\n",
              "    [theme=dark] .colab-df-convert:hover {\n",
              "      background-color: #434B5C;\n",
              "      box-shadow: 0px 1px 3px 1px rgba(0, 0, 0, 0.15);\n",
              "      filter: drop-shadow(0px 1px 2px rgba(0, 0, 0, 0.3));\n",
              "      fill: #FFFFFF;\n",
              "    }\n",
              "  </style>\n",
              "\n",
              "      <script>\n",
              "        const buttonEl =\n",
              "          document.querySelector('#df-91c17dda-47a8-43c1-895f-c432d543824d button.colab-df-convert');\n",
              "        buttonEl.style.display =\n",
              "          google.colab.kernel.accessAllowed ? 'block' : 'none';\n",
              "\n",
              "        async function convertToInteractive(key) {\n",
              "          const element = document.querySelector('#df-91c17dda-47a8-43c1-895f-c432d543824d');\n",
              "          const dataTable =\n",
              "            await google.colab.kernel.invokeFunction('convertToInteractive',\n",
              "                                                     [key], {});\n",
              "          if (!dataTable) return;\n",
              "\n",
              "          const docLinkHtml = 'Like what you see? Visit the ' +\n",
              "            '<a target=\"_blank\" href=https://colab.research.google.com/notebooks/data_table.ipynb>data table notebook</a>'\n",
              "            + ' to learn more about interactive tables.';\n",
              "          element.innerHTML = '';\n",
              "          dataTable['output_type'] = 'display_data';\n",
              "          await google.colab.output.renderOutput(dataTable, element);\n",
              "          const docLink = document.createElement('div');\n",
              "          docLink.innerHTML = docLinkHtml;\n",
              "          element.appendChild(docLink);\n",
              "        }\n",
              "      </script>\n",
              "    </div>\n",
              "  </div>\n",
              "  "
            ]
          },
          "metadata": {},
          "execution_count": 28
        }
      ]
    },
    {
      "cell_type": "code",
      "source": [
        "df_4['total_deaths_to_total_cases']=(df_4['total_deaths']/df['total_cases'])"
      ],
      "metadata": {
        "id": "WQKfYfJ-32Hd"
      },
      "execution_count": 30,
      "outputs": []
    },
    {
      "cell_type": "code",
      "source": [
        "df_4['total_deaths_to_total_cases']"
      ],
      "metadata": {
        "colab": {
          "base_uri": "https://localhost:8080/"
        },
        "id": "780i0VxA38DA",
        "outputId": "dd4cdd0d-552e-47c0-9afc-97b9a7c7223c"
      },
      "execution_count": 31,
      "outputs": [
        {
          "output_type": "execute_result",
          "data": {
            "text/plain": [
              "0             NaN\n",
              "1             NaN\n",
              "2             NaN\n",
              "3             NaN\n",
              "4             NaN\n",
              "           ...   \n",
              "57389    0.010057\n",
              "57390    0.010057\n",
              "57391    0.010057\n",
              "57392    0.010057\n",
              "57393    0.010057\n",
              "Name: total_deaths_to_total_cases, Length: 57394, dtype: float64"
            ]
          },
          "metadata": {},
          "execution_count": 31
        }
      ]
    },
    {
      "cell_type": "code",
      "source": [
        "#9. Data Visualization :\n",
        "# a. Perform Univariate analysis on 'gdp_per_capita' column by plotting histogram using seaborn dist plot.\n",
        "# b. Plot a scatter plot of 'total_cases' & 'gdp_per_capita'\n",
        "# c. Plot Pairplot on df_groupby dataset.\n",
        "# d. Plot a bar plot of 'continent' column with 'total_cases' .\n",
        " #Tip : using kind='bar' in seaborn catplot"
      ],
      "metadata": {
        "id": "IdOw2lne4JQj"
      },
      "execution_count": 32,
      "outputs": []
    },
    {
      "cell_type": "code",
      "source": [
        "# a. Perform Univariate analysis on 'gdp_per_capita' column by plotting histogram using seaborn dist plot.\n",
        "plt.figure(figsize=(16,9))\n",
        "sns.set()\n",
        "sns.distplot(x=df['gdp_per_capita'],label=\"GDP_Per_Capita\",color=\"blue\", bins=25)\n",
        "plt.title('Histogram of GDP_Per_Capita')\n",
        "plt.legend()\n"
      ],
      "metadata": {
        "colab": {
          "base_uri": "https://localhost:8080/",
          "height": 628
        },
        "id": "IjEXcatR4fRA",
        "outputId": "7ee4bf58-d005-4d41-9d31-0a297cc17777"
      },
      "execution_count": 34,
      "outputs": [
        {
          "output_type": "stream",
          "name": "stderr",
          "text": [
            "/usr/local/lib/python3.8/dist-packages/seaborn/distributions.py:2619: FutureWarning: `distplot` is a deprecated function and will be removed in a future version. Please adapt your code to use either `displot` (a figure-level function with similar flexibility) or `histplot` (an axes-level function for histograms).\n",
            "  warnings.warn(msg, FutureWarning)\n"
          ]
        },
        {
          "output_type": "execute_result",
          "data": {
            "text/plain": [
              "<matplotlib.legend.Legend at 0x7fcfdbc03640>"
            ]
          },
          "metadata": {},
          "execution_count": 34
        },
        {
          "output_type": "display_data",
          "data": {
            "text/plain": [
              "<Figure size 1152x648 with 1 Axes>"
            ],
            "image/png": "[encoded data removed]"
          },
          "metadata": {
            "needs_background": "light"
          }
        }
      ]
    },
    {
      "cell_type": "code",
      "source": [
        "df_1 = df.copy()"
      ],
      "metadata": {
        "id": "jb711Q8M-6wr"
      },
      "execution_count": 49,
      "outputs": []
    },
    {
      "cell_type": "code",
      "source": [],
      "metadata": {
        "id": "zIWgd0Lo_Bjy"
      },
      "execution_count": null,
      "outputs": []
    },
    {
      "cell_type": "code",
      "source": [
        "# b. Plot a scatter plot of 'total_cases' & 'gdp_per_capita'\n",
        "plt.figure(figsize=(18,9))\n",
        "sns.set()\n",
        "sns.scatterplot(data=df, x=\"total_cases\", y=\"gdp_per_capita\")\n",
        "plt.xlabel('Total Cases',)\n",
        "plt.ylabel('GDP_Per_Capita')\n",
        "plt.title('Total Cases Upon GDP_Per_Capita')\n",
        "plt.show()"
      ],
      "metadata": {
        "colab": {
          "base_uri": "https://localhost:8080/",
          "height": 573
        },
        "id": "Ruk94jQA4iwB",
        "outputId": "8250554f-0766-4116-a70f-422b94b1f3f5"
      },
      "execution_count": 58,
      "outputs": [
        {
          "output_type": "display_data",
          "data": {
            "text/plain": [
              "<Figure size 1296x648 with 1 Axes>"
            ],
            "image/png": "[encoded data removed]"
          },
          "metadata": {}
        }
      ]
    },
    {
      "cell_type": "code",
      "source": [
        "# c. Plot Pairplot on df_groupby dataset.\n",
        "sns.pairplot(df_groupby,kind='reg', \n",
        "vars=['total_deaths','gdp_per_capita','total_cases','new_cases',],)\n",
        "plt.show()\n"
      ],
      "metadata": {
        "colab": {
          "base_uri": "https://localhost:8080/",
          "height": 724
        },
        "id": "WuW6RmLU4tAl",
        "outputId": "38c3b053-d837-4bf6-f06a-b2e2ffdb3f83"
      },
      "execution_count": 36,
      "outputs": [
        {
          "output_type": "display_data",
          "data": {
            "text/plain": [
              "<Figure size 720x720 with 20 Axes>"
            ],
            "image/png": "[encoded data removed]"
          },
          "metadata": {}
        }
      ]
    },
    {
      "cell_type": "code",
      "source": [
        "# d. Plot a bar plot of 'continent' column with 'total_cases' .\n",
        "sns.set()\n",
        "plt.figure(figsize=(16,9))\n",
        "sns.barplot(x='continent',y='total_cases',data=df)\n",
        "plt.title('Total Cases on Different Continent')\n",
        "plt.show()"
      ],
      "metadata": {
        "colab": {
          "base_uri": "https://localhost:8080/",
          "height": 573
        },
        "id": "kjLOzIrS5mdD",
        "outputId": "1bbe55a7-42a9-4e71-f438-d90877839f15"
      },
      "execution_count": 37,
      "outputs": [
        {
          "output_type": "display_data",
          "data": {
            "text/plain": [
              "<Figure size 1152x648 with 1 Axes>"
            ],
            "image/png": "[encoded data removed]"
          },
          "metadata": {}
        }
      ]
    },
    {
      "cell_type": "code",
      "source": [
        "sns.set()\n",
        "sns.catplot( x='continent', y='total_cases', kind='bar',data=df,)\n",
        "plt.xlabel('Cotinent')\n",
        "plt.ylabel('Total Cases')\n",
        "plt.title('Bar Plot on Cotinent and Total Cases')\n",
        "plt.show()"
      ],
      "metadata": {
        "colab": {
          "base_uri": "https://localhost:8080/",
          "height": 381
        },
        "id": "Ohf-iKjX5w1Q",
        "outputId": "5f42bc11-2ac9-447b-b7b7-acb083f11df7"
      },
      "execution_count": 38,
      "outputs": [
        {
          "output_type": "display_data",
          "data": {
            "text/plain": [
              "<Figure size 360x360 with 1 Axes>"
            ],
            "image/png": "[encoded data removed]"
          },
          "metadata": {}
        }
      ]
    },
    {
      "cell_type": "code",
      "source": [
        "#10.Save the df_groupby dataframe in your local drive using pandas.to_csv function ."
      ],
      "metadata": {
        "id": "1Ax-Go1F53Lr"
      },
      "execution_count": 39,
      "outputs": []
    },
    {
      "cell_type": "code",
      "source": [
        "df_groupby.to_csv(\"C://Users//Akshay//Desktop//Git//https://raw.githubusercontent.com/SR1608/Datasets/main/covid-data.csv\",index=False)"
      ],
      "metadata": {
        "id": "Mp5l-nff6GFv"
      },
      "execution_count": 42,
      "outputs": []
    },
    {
      "cell_type": "code",
      "source": [],
      "metadata": {
        "id": "MrxLDaVJ6Jq5"
      },
      "execution_count": null,
      "outputs": []
    }
  ]
}